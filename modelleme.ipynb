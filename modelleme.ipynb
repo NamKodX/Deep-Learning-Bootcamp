{
 "cells": [
  {
   "cell_type": "markdown",
   "id": "5e194dd3",
   "metadata": {},
   "source": [
    "# Kronikod-----Model Hazırlanması ve Eğitilmesi-----Kronikod "
   ]
  },
  {
   "cell_type": "markdown",
   "id": "fbb18074",
   "metadata": {},
   "source": [
    "# Deep Learning ile Ses Tanıma ve sınıflandırma"
   ]
  },
  {
   "cell_type": "markdown",
   "id": "08227463",
   "metadata": {},
   "source": [
    "Ses dosyalarımızı diğer defter yani onisleme.ipynb ile işlediğimize göre artol derin öğrenme algoritmasını kullanabiliriz.Çünkü yaptığımız işlemle yapay zekanın(bilgisayarın) anlayacağı biçime sesleri getirdik"
   ]
  },
  {
   "cell_type": "markdown",
   "id": "8fc46c0f",
   "metadata": {},
   "source": [
    "Tensorflow ve Keras kullanarak katmanlar ve nöronlar oluşturup CNN(Convolutional Neural Network) mimarisi yapacağız.Kaç katman ve kaç nöron yapmamız gerektiğinin ön izlemesini http://playground.tensorflow.org/#activation=tanh&batchSize=10&dataset=circle&regDataset=reg-plane&learningRate=0.03&regularizationRate=0&noise=0&networkShape=4,2&seed=0.46740&showTestData=false&discretize=false&percTrainData=50&x=true&y=true&xTimesY=false&xSquared=false&ySquared=false&cosX=false&sinX=false&cosY=false&sinY=false&collectStats=false&problem=classification&initZero=false&hideText=false sitesinden kurgulayıp yapacağız.Bu sayede daha verimli bir program yazmış olacağız."
   ]
  },
  {
   "cell_type": "markdown",
   "id": "68ffb8b6",
   "metadata": {},
   "source": [
    "Modeli train için rastgele ses sinyalleri ile eğiteceğiz ve ardından rastgele belirlenen ses sinyallerinin testini yapıp doğruluğunu hesaplatacağız"
   ]
  },
  {
   "cell_type": "markdown",
   "id": "3ff27dc7",
   "metadata": {},
   "source": [
    "En son olarak internetteki rastgele sesleri modelimize soracağız ve bu sesler UrbanSound8k veri setinde yer almayanlar olmalı ki veriler harici seslerde verimlilik ölçebilelim.Dosyalar çok büyük olmadığı sürece sıkıntı çıkmayacaktır"
   ]
  },
  {
   "cell_type": "markdown",
   "id": "9a9fefa6",
   "metadata": {},
   "source": [
    "### Kütphane Yüklemeleri Bölümü"
   ]
  },
  {
   "cell_type": "code",
   "execution_count": 7,
   "id": "12d9ffc7",
   "metadata": {},
   "outputs": [
    {
     "name": "stdout",
     "output_type": "stream",
     "text": [
      "Requirement already satisfied: librosa in c:\\users\\pc\\appdata\\local\\programs\\python\\python38\\lib\\site-packages (0.9.2)\n",
      "Requirement already satisfied: soundfile>=0.10.2 in c:\\users\\pc\\appdata\\local\\programs\\python\\python38\\lib\\site-packages (from librosa) (0.11.0)\n",
      "Requirement already satisfied: scipy>=1.2.0 in c:\\users\\pc\\appdata\\local\\programs\\python\\python38\\lib\\site-packages (from librosa) (1.9.1)\n",
      "Requirement already satisfied: numba>=0.45.1 in c:\\users\\pc\\appdata\\local\\programs\\python\\python38\\lib\\site-packages (from librosa) (0.56.2)\n",
      "Requirement already satisfied: decorator>=4.0.10 in c:\\users\\pc\\appdata\\local\\programs\\python\\python38\\lib\\site-packages (from librosa) (5.1.1)\n",
      "Requirement already satisfied: scikit-learn>=0.19.1 in c:\\users\\pc\\appdata\\local\\programs\\python\\python38\\lib\\site-packages (from librosa) (1.1.2)\n",
      "Requirement already satisfied: numpy>=1.17.0 in c:\\users\\pc\\appdata\\local\\programs\\python\\python38\\lib\\site-packages (from librosa) (1.23.3)\n",
      "Requirement already satisfied: resampy>=0.2.2 in c:\\users\\pc\\appdata\\local\\programs\\python\\python38\\lib\\site-packages (from librosa) (0.4.2)\n",
      "Requirement already satisfied: packaging>=20.0 in c:\\users\\pc\\appdata\\local\\programs\\python\\python38\\lib\\site-packages (from librosa) (21.3)\n",
      "Requirement already satisfied: joblib>=0.14 in c:\\users\\pc\\appdata\\local\\programs\\python\\python38\\lib\\site-packages (from librosa) (1.2.0)\n",
      "Requirement already satisfied: pooch>=1.0 in c:\\users\\pc\\appdata\\local\\programs\\python\\python38\\lib\\site-packages (from librosa) (1.6.0)\n",
      "Requirement already satisfied: audioread>=2.1.9 in c:\\users\\pc\\appdata\\local\\programs\\python\\python38\\lib\\site-packages (from librosa) (3.0.0)\n",
      "Requirement already satisfied: llvmlite<0.40,>=0.39.0dev0 in c:\\users\\pc\\appdata\\local\\programs\\python\\python38\\lib\\site-packages (from numba>=0.45.1->librosa) (0.39.1)\n",
      "Requirement already satisfied: setuptools<60 in c:\\users\\pc\\appdata\\local\\programs\\python\\python38\\lib\\site-packages (from numba>=0.45.1->librosa) (41.2.0)\n",
      "Requirement already satisfied: importlib-metadata in c:\\users\\pc\\appdata\\local\\programs\\python\\python38\\lib\\site-packages (from numba>=0.45.1->librosa) (5.0.0)\n",
      "Requirement already satisfied: pyparsing!=3.0.5,>=2.0.2 in c:\\users\\pc\\appdata\\local\\programs\\python\\python38\\lib\\site-packages (from packaging>=20.0->librosa) (3.0.9)\n",
      "Requirement already satisfied: appdirs>=1.3.0 in c:\\users\\pc\\appdata\\local\\programs\\python\\python38\\lib\\site-packages (from pooch>=1.0->librosa) (1.4.4)\n",
      "Requirement already satisfied: requests>=2.19.0 in c:\\users\\pc\\appdata\\local\\programs\\python\\python38\\lib\\site-packages (from pooch>=1.0->librosa) (2.28.1)\n",
      "Requirement already satisfied: threadpoolctl>=2.0.0 in c:\\users\\pc\\appdata\\local\\programs\\python\\python38\\lib\\site-packages (from scikit-learn>=0.19.1->librosa) (3.1.0)\n",
      "Requirement already satisfied: cffi>=1.0 in c:\\users\\pc\\appdata\\local\\programs\\python\\python38\\lib\\site-packages (from soundfile>=0.10.2->librosa) (1.15.1)\n",
      "Requirement already satisfied: pycparser in c:\\users\\pc\\appdata\\local\\programs\\python\\python38\\lib\\site-packages (from cffi>=1.0->soundfile>=0.10.2->librosa) (2.21)\n",
      "Requirement already satisfied: idna<4,>=2.5 in c:\\users\\pc\\appdata\\local\\programs\\python\\python38\\lib\\site-packages (from requests>=2.19.0->pooch>=1.0->librosa) (3.4)\n",
      "Requirement already satisfied: urllib3<1.27,>=1.21.1 in c:\\users\\pc\\appdata\\local\\programs\\python\\python38\\lib\\site-packages (from requests>=2.19.0->pooch>=1.0->librosa) (1.26.12)\n",
      "Requirement already satisfied: charset-normalizer<3,>=2 in c:\\users\\pc\\appdata\\local\\programs\\python\\python38\\lib\\site-packages (from requests>=2.19.0->pooch>=1.0->librosa) (2.1.1)\n",
      "Requirement already satisfied: certifi>=2017.4.17 in c:\\users\\pc\\appdata\\local\\programs\\python\\python38\\lib\\site-packages (from requests>=2.19.0->pooch>=1.0->librosa) (2022.9.24)\n",
      "Requirement already satisfied: zipp>=0.5 in c:\\users\\pc\\appdata\\local\\programs\\python\\python38\\lib\\site-packages (from importlib-metadata->numba>=0.45.1->librosa) (3.8.1)\n"
     ]
    }
   ],
   "source": [
    "!pip install librosa"
   ]
  },
  {
   "cell_type": "code",
   "execution_count": 8,
   "id": "ff449d3d",
   "metadata": {},
   "outputs": [
    {
     "name": "stdout",
     "output_type": "stream",
     "text": [
      "Requirement already satisfied: tensorflow in c:\\users\\pc\\appdata\\local\\programs\\python\\python38\\lib\\site-packages (2.10.0)\n",
      "Requirement already satisfied: opt-einsum>=2.3.2 in c:\\users\\pc\\appdata\\local\\programs\\python\\python38\\lib\\site-packages (from tensorflow) (3.3.0)\n",
      "Requirement already satisfied: typing-extensions>=3.6.6 in c:\\users\\pc\\appdata\\local\\programs\\python\\python38\\lib\\site-packages (from tensorflow) (4.3.0)\n",
      "Requirement already satisfied: google-pasta>=0.1.1 in c:\\users\\pc\\appdata\\local\\programs\\python\\python38\\lib\\site-packages (from tensorflow) (0.2.0)\n",
      "Requirement already satisfied: h5py>=2.9.0 in c:\\users\\pc\\appdata\\local\\programs\\python\\python38\\lib\\site-packages (from tensorflow) (3.7.0)\n",
      "Requirement already satisfied: tensorflow-io-gcs-filesystem>=0.23.1 in c:\\users\\pc\\appdata\\local\\programs\\python\\python38\\lib\\site-packages (from tensorflow) (0.27.0)\n",
      "Requirement already satisfied: six>=1.12.0 in c:\\users\\pc\\appdata\\local\\programs\\python\\python38\\lib\\site-packages (from tensorflow) (1.16.0)\n",
      "Requirement already satisfied: astunparse>=1.6.0 in c:\\users\\pc\\appdata\\local\\programs\\python\\python38\\lib\\site-packages (from tensorflow) (1.6.3)\n",
      "Requirement already satisfied: termcolor>=1.1.0 in c:\\users\\pc\\appdata\\local\\programs\\python\\python38\\lib\\site-packages (from tensorflow) (2.0.1)\n",
      "Requirement already satisfied: tensorboard<2.11,>=2.10 in c:\\users\\pc\\appdata\\local\\programs\\python\\python38\\lib\\site-packages (from tensorflow) (2.10.1)\n",
      "Requirement already satisfied: setuptools in c:\\users\\pc\\appdata\\local\\programs\\python\\python38\\lib\\site-packages (from tensorflow) (41.2.0)\n",
      "Requirement already satisfied: packaging in c:\\users\\pc\\appdata\\local\\programs\\python\\python38\\lib\\site-packages (from tensorflow) (21.3)\n",
      "Requirement already satisfied: gast<=0.4.0,>=0.2.1 in c:\\users\\pc\\appdata\\local\\programs\\python\\python38\\lib\\site-packages (from tensorflow) (0.4.0)\n",
      "Requirement already satisfied: flatbuffers>=2.0 in c:\\users\\pc\\appdata\\local\\programs\\python\\python38\\lib\\site-packages (from tensorflow) (22.9.24)\n",
      "Requirement already satisfied: grpcio<2.0,>=1.24.3 in c:\\users\\pc\\appdata\\local\\programs\\python\\python38\\lib\\site-packages (from tensorflow) (1.49.1)\n",
      "Requirement already satisfied: numpy>=1.20 in c:\\users\\pc\\appdata\\local\\programs\\python\\python38\\lib\\site-packages (from tensorflow) (1.23.3)\n",
      "Requirement already satisfied: protobuf<3.20,>=3.9.2 in c:\\users\\pc\\appdata\\local\\programs\\python\\python38\\lib\\site-packages (from tensorflow) (3.19.6)\n",
      "Requirement already satisfied: absl-py>=1.0.0 in c:\\users\\pc\\appdata\\local\\programs\\python\\python38\\lib\\site-packages (from tensorflow) (1.2.0)\n",
      "Requirement already satisfied: keras<2.11,>=2.10.0 in c:\\users\\pc\\appdata\\local\\programs\\python\\python38\\lib\\site-packages (from tensorflow) (2.10.0)\n",
      "Requirement already satisfied: tensorflow-estimator<2.11,>=2.10.0 in c:\\users\\pc\\appdata\\local\\programs\\python\\python38\\lib\\site-packages (from tensorflow) (2.10.0)\n",
      "Requirement already satisfied: wrapt>=1.11.0 in c:\\users\\pc\\appdata\\local\\programs\\python\\python38\\lib\\site-packages (from tensorflow) (1.14.1)\n",
      "Requirement already satisfied: keras-preprocessing>=1.1.1 in c:\\users\\pc\\appdata\\local\\programs\\python\\python38\\lib\\site-packages (from tensorflow) (1.1.2)\n",
      "Requirement already satisfied: libclang>=13.0.0 in c:\\users\\pc\\appdata\\local\\programs\\python\\python38\\lib\\site-packages (from tensorflow) (14.0.6)\n",
      "Requirement already satisfied: wheel<1.0,>=0.23.0 in c:\\users\\pc\\appdata\\local\\programs\\python\\python38\\lib\\site-packages (from astunparse>=1.6.0->tensorflow) (0.37.1)\n",
      "Requirement already satisfied: tensorboard-data-server<0.7.0,>=0.6.0 in c:\\users\\pc\\appdata\\local\\programs\\python\\python38\\lib\\site-packages (from tensorboard<2.11,>=2.10->tensorflow) (0.6.1)\n",
      "Requirement already satisfied: werkzeug>=1.0.1 in c:\\users\\pc\\appdata\\local\\programs\\python\\python38\\lib\\site-packages (from tensorboard<2.11,>=2.10->tensorflow) (2.2.2)\n",
      "Requirement already satisfied: google-auth<3,>=1.6.3 in c:\\users\\pc\\appdata\\local\\programs\\python\\python38\\lib\\site-packages (from tensorboard<2.11,>=2.10->tensorflow) (2.12.0)\n",
      "Requirement already satisfied: tensorboard-plugin-wit>=1.6.0 in c:\\users\\pc\\appdata\\local\\programs\\python\\python38\\lib\\site-packages (from tensorboard<2.11,>=2.10->tensorflow) (1.8.1)\n",
      "Requirement already satisfied: requests<3,>=2.21.0 in c:\\users\\pc\\appdata\\local\\programs\\python\\python38\\lib\\site-packages (from tensorboard<2.11,>=2.10->tensorflow) (2.28.1)\n",
      "Requirement already satisfied: google-auth-oauthlib<0.5,>=0.4.1 in c:\\users\\pc\\appdata\\local\\programs\\python\\python38\\lib\\site-packages (from tensorboard<2.11,>=2.10->tensorflow) (0.4.6)\n",
      "Requirement already satisfied: markdown>=2.6.8 in c:\\users\\pc\\appdata\\local\\programs\\python\\python38\\lib\\site-packages (from tensorboard<2.11,>=2.10->tensorflow) (3.4.1)\n",
      "Requirement already satisfied: pyparsing!=3.0.5,>=2.0.2 in c:\\users\\pc\\appdata\\local\\programs\\python\\python38\\lib\\site-packages (from packaging->tensorflow) (3.0.9)\n",
      "Requirement already satisfied: rsa<5,>=3.1.4 in c:\\users\\pc\\appdata\\local\\programs\\python\\python38\\lib\\site-packages (from google-auth<3,>=1.6.3->tensorboard<2.11,>=2.10->tensorflow) (4.9)\n",
      "Requirement already satisfied: cachetools<6.0,>=2.0.0 in c:\\users\\pc\\appdata\\local\\programs\\python\\python38\\lib\\site-packages (from google-auth<3,>=1.6.3->tensorboard<2.11,>=2.10->tensorflow) (5.2.0)\n",
      "Requirement already satisfied: pyasn1-modules>=0.2.1 in c:\\users\\pc\\appdata\\local\\programs\\python\\python38\\lib\\site-packages (from google-auth<3,>=1.6.3->tensorboard<2.11,>=2.10->tensorflow) (0.2.8)\n",
      "Requirement already satisfied: requests-oauthlib>=0.7.0 in c:\\users\\pc\\appdata\\local\\programs\\python\\python38\\lib\\site-packages (from google-auth-oauthlib<0.5,>=0.4.1->tensorboard<2.11,>=2.10->tensorflow) (1.3.1)\n",
      "Requirement already satisfied: importlib-metadata>=4.4 in c:\\users\\pc\\appdata\\local\\programs\\python\\python38\\lib\\site-packages (from markdown>=2.6.8->tensorboard<2.11,>=2.10->tensorflow) (5.0.0)\n",
      "Requirement already satisfied: urllib3<1.27,>=1.21.1 in c:\\users\\pc\\appdata\\local\\programs\\python\\python38\\lib\\site-packages (from requests<3,>=2.21.0->tensorboard<2.11,>=2.10->tensorflow) (1.26.12)\n",
      "Requirement already satisfied: charset-normalizer<3,>=2 in c:\\users\\pc\\appdata\\local\\programs\\python\\python38\\lib\\site-packages (from requests<3,>=2.21.0->tensorboard<2.11,>=2.10->tensorflow) (2.1.1)\n",
      "Requirement already satisfied: idna<4,>=2.5 in c:\\users\\pc\\appdata\\local\\programs\\python\\python38\\lib\\site-packages (from requests<3,>=2.21.0->tensorboard<2.11,>=2.10->tensorflow) (3.4)\n",
      "Requirement already satisfied: certifi>=2017.4.17 in c:\\users\\pc\\appdata\\local\\programs\\python\\python38\\lib\\site-packages (from requests<3,>=2.21.0->tensorboard<2.11,>=2.10->tensorflow) (2022.9.24)\n",
      "Requirement already satisfied: MarkupSafe>=2.1.1 in c:\\users\\pc\\appdata\\local\\programs\\python\\python38\\lib\\site-packages (from werkzeug>=1.0.1->tensorboard<2.11,>=2.10->tensorflow) (2.1.1)\n",
      "Requirement already satisfied: zipp>=0.5 in c:\\users\\pc\\appdata\\local\\programs\\python\\python38\\lib\\site-packages (from importlib-metadata>=4.4->markdown>=2.6.8->tensorboard<2.11,>=2.10->tensorflow) (3.8.1)\n",
      "Requirement already satisfied: pyasn1<0.5.0,>=0.4.6 in c:\\users\\pc\\appdata\\local\\programs\\python\\python38\\lib\\site-packages (from pyasn1-modules>=0.2.1->google-auth<3,>=1.6.3->tensorboard<2.11,>=2.10->tensorflow) (0.4.8)\n",
      "Requirement already satisfied: oauthlib>=3.0.0 in c:\\users\\pc\\appdata\\local\\programs\\python\\python38\\lib\\site-packages (from requests-oauthlib>=0.7.0->google-auth-oauthlib<0.5,>=0.4.1->tensorboard<2.11,>=2.10->tensorflow) (3.2.1)\n"
     ]
    }
   ],
   "source": [
    "!pip install tensorflow"
   ]
  },
  {
   "cell_type": "code",
   "execution_count": 9,
   "id": "8261b3e2",
   "metadata": {},
   "outputs": [
    {
     "name": "stdout",
     "output_type": "stream",
     "text": [
      "Requirement already satisfied: opencv-python in c:\\users\\pc\\appdata\\local\\programs\\python\\python38\\lib\\site-packages (4.6.0.66)\n",
      "Requirement already satisfied: numpy>=1.14.5 in c:\\users\\pc\\appdata\\local\\programs\\python\\python38\\lib\\site-packages (from opencv-python) (1.23.3)\n"
     ]
    }
   ],
   "source": [
    "!pip install opencv-python"
   ]
  },
  {
   "cell_type": "code",
   "execution_count": 10,
   "id": "aa34d974",
   "metadata": {},
   "outputs": [
    {
     "name": "stdout",
     "output_type": "stream",
     "text": [
      "Requirement already satisfied: numpy in c:\\users\\pc\\appdata\\local\\programs\\python\\python38\\lib\\site-packages (1.23.3)\n"
     ]
    }
   ],
   "source": [
    "!pip install numpy"
   ]
  },
  {
   "cell_type": "code",
   "execution_count": 11,
   "id": "e7869754",
   "metadata": {},
   "outputs": [
    {
     "name": "stdout",
     "output_type": "stream",
     "text": [
      "Requirement already satisfied: pandas in c:\\users\\pc\\appdata\\local\\programs\\python\\python38\\lib\\site-packages (1.5.0)\n",
      "Requirement already satisfied: pytz>=2020.1 in c:\\users\\pc\\appdata\\local\\programs\\python\\python38\\lib\\site-packages (from pandas) (2022.4)\n",
      "Requirement already satisfied: numpy>=1.20.3 in c:\\users\\pc\\appdata\\local\\programs\\python\\python38\\lib\\site-packages (from pandas) (1.23.3)\n",
      "Requirement already satisfied: python-dateutil>=2.8.1 in c:\\users\\pc\\appdata\\local\\programs\\python\\python38\\lib\\site-packages (from pandas) (2.8.2)\n",
      "Requirement already satisfied: six>=1.5 in c:\\users\\pc\\appdata\\local\\programs\\python\\python38\\lib\\site-packages (from python-dateutil>=2.8.1->pandas) (1.16.0)\n"
     ]
    }
   ],
   "source": [
    "!pip install pandas"
   ]
  },
  {
   "cell_type": "code",
   "execution_count": 12,
   "id": "8293d6f3",
   "metadata": {},
   "outputs": [
    {
     "name": "stdout",
     "output_type": "stream",
     "text": [
      "Requirement already satisfied: matplotlib in c:\\users\\pc\\appdata\\local\\programs\\python\\python38\\lib\\site-packages (3.6.0)\n",
      "Requirement already satisfied: pillow>=6.2.0 in c:\\users\\pc\\appdata\\local\\programs\\python\\python38\\lib\\site-packages (from matplotlib) (9.2.0)\n",
      "Requirement already satisfied: pyparsing>=2.2.1 in c:\\users\\pc\\appdata\\local\\programs\\python\\python38\\lib\\site-packages (from matplotlib) (3.0.9)\n",
      "Requirement already satisfied: contourpy>=1.0.1 in c:\\users\\pc\\appdata\\local\\programs\\python\\python38\\lib\\site-packages (from matplotlib) (1.0.5)\n",
      "Requirement already satisfied: packaging>=20.0 in c:\\users\\pc\\appdata\\local\\programs\\python\\python38\\lib\\site-packages (from matplotlib) (21.3)\n",
      "Requirement already satisfied: python-dateutil>=2.7 in c:\\users\\pc\\appdata\\local\\programs\\python\\python38\\lib\\site-packages (from matplotlib) (2.8.2)\n",
      "Requirement already satisfied: cycler>=0.10 in c:\\users\\pc\\appdata\\local\\programs\\python\\python38\\lib\\site-packages (from matplotlib) (0.11.0)\n",
      "Requirement already satisfied: numpy>=1.19 in c:\\users\\pc\\appdata\\local\\programs\\python\\python38\\lib\\site-packages (from matplotlib) (1.23.3)\n",
      "Requirement already satisfied: fonttools>=4.22.0 in c:\\users\\pc\\appdata\\local\\programs\\python\\python38\\lib\\site-packages (from matplotlib) (4.37.4)\n",
      "Requirement already satisfied: kiwisolver>=1.0.1 in c:\\users\\pc\\appdata\\local\\programs\\python\\python38\\lib\\site-packages (from matplotlib) (1.4.4)\n",
      "Requirement already satisfied: six>=1.5 in c:\\users\\pc\\appdata\\local\\programs\\python\\python38\\lib\\site-packages (from python-dateutil>=2.7->matplotlib) (1.16.0)\n"
     ]
    }
   ],
   "source": [
    "!pip install matplotlib"
   ]
  },
  {
   "cell_type": "code",
   "execution_count": 13,
   "id": "b101e6d2",
   "metadata": {
    "scrolled": true
   },
   "outputs": [
    {
     "name": "stdout",
     "output_type": "stream",
     "text": [
      "Requirement already satisfied: seaborn in c:\\users\\pc\\appdata\\local\\programs\\python\\python38\\lib\\site-packages (0.12.0)\n",
      "Requirement already satisfied: pandas>=0.25 in c:\\users\\pc\\appdata\\local\\programs\\python\\python38\\lib\\site-packages (from seaborn) (1.5.0)\n",
      "Requirement already satisfied: numpy>=1.17 in c:\\users\\pc\\appdata\\local\\programs\\python\\python38\\lib\\site-packages (from seaborn) (1.23.3)\n",
      "Requirement already satisfied: matplotlib>=3.1 in c:\\users\\pc\\appdata\\local\\programs\\python\\python38\\lib\\site-packages (from seaborn) (3.6.0)\n",
      "Requirement already satisfied: pyparsing>=2.2.1 in c:\\users\\pc\\appdata\\local\\programs\\python\\python38\\lib\\site-packages (from matplotlib>=3.1->seaborn) (3.0.9)\n",
      "Requirement already satisfied: packaging>=20.0 in c:\\users\\pc\\appdata\\local\\programs\\python\\python38\\lib\\site-packages (from matplotlib>=3.1->seaborn) (21.3)\n",
      "Requirement already satisfied: contourpy>=1.0.1 in c:\\users\\pc\\appdata\\local\\programs\\python\\python38\\lib\\site-packages (from matplotlib>=3.1->seaborn) (1.0.5)\n",
      "Requirement already satisfied: fonttools>=4.22.0 in c:\\users\\pc\\appdata\\local\\programs\\python\\python38\\lib\\site-packages (from matplotlib>=3.1->seaborn) (4.37.4)\n",
      "Requirement already satisfied: python-dateutil>=2.7 in c:\\users\\pc\\appdata\\local\\programs\\python\\python38\\lib\\site-packages (from matplotlib>=3.1->seaborn) (2.8.2)\n",
      "Requirement already satisfied: pillow>=6.2.0 in c:\\users\\pc\\appdata\\local\\programs\\python\\python38\\lib\\site-packages (from matplotlib>=3.1->seaborn) (9.2.0)\n",
      "Requirement already satisfied: cycler>=0.10 in c:\\users\\pc\\appdata\\local\\programs\\python\\python38\\lib\\site-packages (from matplotlib>=3.1->seaborn) (0.11.0)\n",
      "Requirement already satisfied: kiwisolver>=1.0.1 in c:\\users\\pc\\appdata\\local\\programs\\python\\python38\\lib\\site-packages (from matplotlib>=3.1->seaborn) (1.4.4)\n",
      "Requirement already satisfied: pytz>=2020.1 in c:\\users\\pc\\appdata\\local\\programs\\python\\python38\\lib\\site-packages (from pandas>=0.25->seaborn) (2022.4)\n",
      "Requirement already satisfied: six>=1.5 in c:\\users\\pc\\appdata\\local\\programs\\python\\python38\\lib\\site-packages (from python-dateutil>=2.7->matplotlib>=3.1->seaborn) (1.16.0)\n"
     ]
    }
   ],
   "source": [
    "#Alternatif Yükleme\n",
    "!pip install seaborn"
   ]
  },
  {
   "cell_type": "markdown",
   "id": "92978f0b",
   "metadata": {},
   "source": [
    "### Kütüphane Tanımlamaları Bölümü"
   ]
  },
  {
   "cell_type": "code",
   "execution_count": 14,
   "id": "909f8ddd",
   "metadata": {},
   "outputs": [],
   "source": [
    "#Kütüphanelerin tanımlaması\n",
    "import numpy as np                                    #Numpy kütüphanesini içeri aktarma\n",
    "import pandas as pd                                   #Pandas kütüphanesini içeri aktarma\n",
    "import librosa as lb                                  #Librosa(Ses İşleme) kütüphanesini içeri aktarma\n",
    "import cv2 as cv                                      #OpenCV (Görüntü İşleme) kütüphanesinin içeri aktarması\n",
    "import matplotlib.pyplot as plt                       #Matplotlib kütüphanesini içeri aktarma\n",
    "%matplotlib inline                                    \n",
    "#Çıktıların not defterinde saklanması için gereken ifade"
   ]
  },
  {
   "cell_type": "code",
   "execution_count": 15,
   "id": "b1da9bcf",
   "metadata": {},
   "outputs": [
    {
     "name": "stdout",
     "output_type": "stream",
     "text": [
      "2.10.0\n"
     ]
    }
   ],
   "source": [
    "#Tensorflow tanımlama ve versiyon kontrolü\n",
    "import tensorflow as tf        \n",
    "print(tf.__version__)"
   ]
  },
  {
   "cell_type": "code",
   "execution_count": 16,
   "id": "7d7927cc",
   "metadata": {},
   "outputs": [],
   "source": [
    "#Diğer gerekli olabilecek kütüphanelerin tanımlanması\n",
    "import os                                                #Os kütüphanesinin içeri aktarılması                                   \n",
    "from tqdm import tqdm\n",
    "#Tensorflow ve keras kütüphaneleri içeri aktarma\n",
    "from sklearn.model_selection import train_test_split\n",
    "from tensorflow.keras.utils import to_categorical\n",
    "from sklearn.preprocessing import LabelEncoder\n",
    "from tensorflow.keras.models import Sequential\n",
    "from tensorflow.keras.layers import Dense,Dropout,Activation,Flatten\n",
    "from tensorflow.keras.optimizers import Adam\n",
    "from sklearn import metrics\n",
    "from tensorflow.keras.callbacks import ModelCheckpoint\n",
    "from datetime import datetime                             #Tarih saat kütüphanesinin içeri aktarılması\n"
   ]
  },
  {
   "cell_type": "markdown",
   "id": "a1580676",
   "metadata": {},
   "source": [
    "## CSV dosyalarını içeri alma"
   ]
  },
  {
   "cell_type": "markdown",
   "id": "670aad5c",
   "metadata": {},
   "source": [
    "#### Buradaki dosyalar ön işleme dosyasında kaydettiğimiz csv dosyalarıdır.Bunları içeri alalım ki modelimizde kullanalım"
   ]
  },
  {
   "cell_type": "code",
   "execution_count": null,
   "id": "dcef9294",
   "metadata": {},
   "outputs": [],
   "source": [
    "X_train = pd.read_csv(\"X_train.csv\")\n",
    "y_train = pd.read_csv(\"y_train.csv\")\n",
    "X_test = pd.read_csv(\"X_test.csv\")\n",
    "y_test = pd.read_csv(\"y_test.csv\")"
   ]
  },
  {
   "cell_type": "code",
   "execution_count": 42,
   "id": "0afe4da9",
   "metadata": {},
   "outputs": [
    {
     "data": {
      "text/plain": [
       "(2619, 42)"
      ]
     },
     "execution_count": 42,
     "metadata": {},
     "output_type": "execute_result"
    }
   ],
   "source": [
    "X_test.shape"
   ]
  },
  {
   "cell_type": "markdown",
   "id": "59a7c3cd",
   "metadata": {},
   "source": [
    "## CNN Modelini kurmaya başlayalım"
   ]
  },
  {
   "cell_type": "markdown",
   "id": "3cb18e98",
   "metadata": {},
   "source": [
    "CNN Modelinde Katmanlar ve Nöronlar bulunuyor."
   ]
  },
  {
   "cell_type": "markdown",
   "id": "14fdbf14",
   "metadata": {},
   "source": [
    "Kaç tane hangisinden kullanacağımızı öğrenmek için tensorflow playgrounddan yardım almak faydalı olacaktır."
   ]
  },
  {
   "cell_type": "code",
   "execution_count": 43,
   "id": "c2630d68",
   "metadata": {},
   "outputs": [],
   "source": [
    "#Sınıf sayısını belirttik daha sonrasında kullanmak üzere 3 hidden layer 500 neuron\n",
    "sinif_sayisi = 10"
   ]
  },
  {
   "cell_type": "markdown",
   "id": "fe260326",
   "metadata": {},
   "source": [
    "### CNN Modelin yapısı : Katmanlar ve içerisinde nöronların bulunacağı yapı"
   ]
  },
  {
   "cell_type": "code",
   "execution_count": 44,
   "id": "c4bfe16f",
   "metadata": {},
   "outputs": [],
   "source": [
    "cnn_model = Sequential()        #model kurmak için Sequential a ihtiyaç var.cnn_model isimli değişkene atadık\n",
    "#0.5 yüzde elli demek\n",
    "#1.Gizli Katman\n",
    "cnn_model.add(Dense(130,input_shape=(42,)))    #1.Gizli katman nöron sayısı input_shape= n_mfcc değeridirr\n",
    "cnn_model.add(Activation(\"relu\"))\n",
    "cnn_model.add(Dropout(0.5))\n",
    "\n",
    "#2.Gizli Katman\n",
    "cnn_model.add(Dense(260))                      #2.Gizli katman nöron sayısı\n",
    "cnn_model.add(Activation(\"relu\"))      \n",
    "cnn_model.add(Dropout(0.5))\n",
    "\n",
    "#3.Gizli Katman\n",
    "cnn_model.add(Dense(130))                      #3.Gizli katman nöron sayısı\n",
    "cnn_model.add(Activation(\"relu\"))\n",
    "cnn_model.add(Dropout(0.5))\n",
    "\n",
    "#Çıkış Katmanı\n",
    "cnn_model.add(Dense(sinif_sayisi))             #Çıkış katmanı nöron sayısına sınıf sayısını yazdırıyoruz\n",
    "cnn_model.add(Activation(\"softmax\"))"
   ]
  },
  {
   "cell_type": "code",
   "execution_count": 45,
   "id": "4266dc8f",
   "metadata": {},
   "outputs": [
    {
     "name": "stdout",
     "output_type": "stream",
     "text": [
      "Model: \"sequential_2\"\n",
      "_________________________________________________________________\n",
      " Layer (type)                Output Shape              Param #   \n",
      "=================================================================\n",
      " dense_8 (Dense)             (None, 130)               5590      \n",
      "                                                                 \n",
      " activation_8 (Activation)   (None, 130)               0         \n",
      "                                                                 \n",
      " dropout_6 (Dropout)         (None, 130)               0         \n",
      "                                                                 \n",
      " dense_9 (Dense)             (None, 260)               34060     \n",
      "                                                                 \n",
      " activation_9 (Activation)   (None, 260)               0         \n",
      "                                                                 \n",
      " dropout_7 (Dropout)         (None, 260)               0         \n",
      "                                                                 \n",
      " dense_10 (Dense)            (None, 130)               33930     \n",
      "                                                                 \n",
      " activation_10 (Activation)  (None, 130)               0         \n",
      "                                                                 \n",
      " dropout_8 (Dropout)         (None, 130)               0         \n",
      "                                                                 \n",
      " dense_11 (Dense)            (None, 10)                1310      \n",
      "                                                                 \n",
      " activation_11 (Activation)  (None, 10)                0         \n",
      "                                                                 \n",
      "=================================================================\n",
      "Total params: 74,890\n",
      "Trainable params: 74,890\n",
      "Non-trainable params: 0\n",
      "_________________________________________________________________\n"
     ]
    }
   ],
   "source": [
    "cnn_model.summary()"
   ]
  },
  {
   "cell_type": "code",
   "execution_count": 46,
   "id": "c86ecf40",
   "metadata": {},
   "outputs": [],
   "source": [
    "cnn_model.compile(loss=\"categorical_crossentropy\",metrics=[\"accuracy\"],optimizer=\"adam\")\n",
    "#Modelin performans metriklerini, loss ve accuracy değerleri"
   ]
  },
  {
   "cell_type": "code",
   "execution_count": 69,
   "id": "914fe512",
   "metadata": {},
   "outputs": [
    {
     "name": "stdout",
     "output_type": "stream",
     "text": [
      "Epoch 1/310\n",
      "191/191 [==============================] - 0s 2ms/step - loss: 0.6010 - accuracy: 0.8000 - val_loss: 0.5067 - val_accuracy: 0.8450\n",
      "Epoch 2/310\n",
      "191/191 [==============================] - 0s 2ms/step - loss: 0.5890 - accuracy: 0.8015 - val_loss: 0.5131 - val_accuracy: 0.8438\n",
      "Epoch 3/310\n",
      "191/191 [==============================] - 0s 2ms/step - loss: 0.6116 - accuracy: 0.7981 - val_loss: 0.4986 - val_accuracy: 0.8435\n",
      "Epoch 4/310\n",
      "191/191 [==============================] - 0s 2ms/step - loss: 0.6092 - accuracy: 0.8015 - val_loss: 0.5192 - val_accuracy: 0.8354\n",
      "Epoch 5/310\n",
      "191/191 [==============================] - 0s 2ms/step - loss: 0.6114 - accuracy: 0.8030 - val_loss: 0.5170 - val_accuracy: 0.8373\n",
      "Epoch 6/310\n",
      "191/191 [==============================] - 0s 2ms/step - loss: 0.5984 - accuracy: 0.8058 - val_loss: 0.5047 - val_accuracy: 0.8370\n",
      "Epoch 7/310\n",
      "191/191 [==============================] - 0s 2ms/step - loss: 0.5969 - accuracy: 0.8077 - val_loss: 0.5242 - val_accuracy: 0.8335\n",
      "Epoch 8/310\n",
      "191/191 [==============================] - 0s 2ms/step - loss: 0.5961 - accuracy: 0.8077 - val_loss: 0.5190 - val_accuracy: 0.8362\n",
      "Epoch 9/310\n",
      "191/191 [==============================] - 0s 2ms/step - loss: 0.5853 - accuracy: 0.8092 - val_loss: 0.5391 - val_accuracy: 0.8343\n",
      "Epoch 10/310\n",
      "191/191 [==============================] - 0s 2ms/step - loss: 0.6131 - accuracy: 0.8025 - val_loss: 0.5266 - val_accuracy: 0.8351\n",
      "Epoch 11/310\n",
      "191/191 [==============================] - 0s 2ms/step - loss: 0.6020 - accuracy: 0.8087 - val_loss: 0.5254 - val_accuracy: 0.8351\n",
      "Epoch 12/310\n",
      "191/191 [==============================] - 0s 2ms/step - loss: 0.6149 - accuracy: 0.8067 - val_loss: 0.5260 - val_accuracy: 0.8324\n",
      "Epoch 13/310\n",
      "191/191 [==============================] - 0s 2ms/step - loss: 0.6006 - accuracy: 0.8051 - val_loss: 0.5214 - val_accuracy: 0.8320\n",
      "Epoch 14/310\n",
      "191/191 [==============================] - 0s 2ms/step - loss: 0.5865 - accuracy: 0.8040 - val_loss: 0.5201 - val_accuracy: 0.8312\n",
      "Epoch 15/310\n",
      "191/191 [==============================] - 0s 2ms/step - loss: 0.6001 - accuracy: 0.8017 - val_loss: 0.5177 - val_accuracy: 0.8373\n",
      "Epoch 16/310\n",
      "191/191 [==============================] - 0s 2ms/step - loss: 0.6071 - accuracy: 0.8112 - val_loss: 0.5271 - val_accuracy: 0.8339\n",
      "Epoch 17/310\n",
      "191/191 [==============================] - 0s 2ms/step - loss: 0.6148 - accuracy: 0.7992 - val_loss: 0.5334 - val_accuracy: 0.8331\n",
      "Epoch 18/310\n",
      "191/191 [==============================] - 0s 2ms/step - loss: 0.5791 - accuracy: 0.8156 - val_loss: 0.5337 - val_accuracy: 0.8328\n",
      "Epoch 19/310\n",
      "191/191 [==============================] - 0s 2ms/step - loss: 0.6419 - accuracy: 0.7989 - val_loss: 0.5340 - val_accuracy: 0.8328\n",
      "Epoch 20/310\n",
      "191/191 [==============================] - 0s 2ms/step - loss: 0.6392 - accuracy: 0.7997 - val_loss: 0.5222 - val_accuracy: 0.8293\n",
      "Epoch 21/310\n",
      "191/191 [==============================] - 0s 2ms/step - loss: 0.5915 - accuracy: 0.8051 - val_loss: 0.5239 - val_accuracy: 0.8427\n",
      "Epoch 22/310\n",
      "191/191 [==============================] - 0s 2ms/step - loss: 0.6084 - accuracy: 0.8077 - val_loss: 0.5092 - val_accuracy: 0.8469\n",
      "Epoch 23/310\n",
      "191/191 [==============================] - 0s 2ms/step - loss: 0.5881 - accuracy: 0.8103 - val_loss: 0.5286 - val_accuracy: 0.8427\n",
      "Epoch 24/310\n",
      "191/191 [==============================] - 0s 2ms/step - loss: 0.6026 - accuracy: 0.8059 - val_loss: 0.5323 - val_accuracy: 0.8343\n",
      "Epoch 25/310\n",
      "191/191 [==============================] - 0s 2ms/step - loss: 0.5941 - accuracy: 0.8005 - val_loss: 0.5196 - val_accuracy: 0.8339\n",
      "Epoch 26/310\n",
      "191/191 [==============================] - 0s 2ms/step - loss: 0.5862 - accuracy: 0.8089 - val_loss: 0.5192 - val_accuracy: 0.8435\n",
      "Epoch 27/310\n",
      "191/191 [==============================] - 0s 2ms/step - loss: 0.5815 - accuracy: 0.8090 - val_loss: 0.5115 - val_accuracy: 0.8412\n",
      "Epoch 28/310\n",
      "191/191 [==============================] - 0s 2ms/step - loss: 0.6043 - accuracy: 0.8069 - val_loss: 0.5174 - val_accuracy: 0.8362\n",
      "Epoch 29/310\n",
      "191/191 [==============================] - 0s 2ms/step - loss: 0.5860 - accuracy: 0.8095 - val_loss: 0.5304 - val_accuracy: 0.8282\n",
      "Epoch 30/310\n",
      "191/191 [==============================] - 0s 2ms/step - loss: 0.6043 - accuracy: 0.7992 - val_loss: 0.5181 - val_accuracy: 0.8377\n",
      "Epoch 31/310\n",
      "191/191 [==============================] - 0s 2ms/step - loss: 0.5805 - accuracy: 0.8125 - val_loss: 0.5184 - val_accuracy: 0.8366\n",
      "Epoch 32/310\n",
      "191/191 [==============================] - 0s 2ms/step - loss: 0.6016 - accuracy: 0.8099 - val_loss: 0.5271 - val_accuracy: 0.8354\n",
      "Epoch 33/310\n",
      "191/191 [==============================] - 0s 2ms/step - loss: 0.5871 - accuracy: 0.8045 - val_loss: 0.5094 - val_accuracy: 0.8415\n",
      "Epoch 34/310\n",
      "191/191 [==============================] - 0s 2ms/step - loss: 0.6288 - accuracy: 0.7943 - val_loss: 0.5241 - val_accuracy: 0.8347\n",
      "Epoch 35/310\n",
      "191/191 [==============================] - 0s 2ms/step - loss: 0.6084 - accuracy: 0.7969 - val_loss: 0.5215 - val_accuracy: 0.8415\n",
      "Epoch 36/310\n",
      "191/191 [==============================] - 0s 2ms/step - loss: 0.6181 - accuracy: 0.7997 - val_loss: 0.5463 - val_accuracy: 0.8282\n",
      "Epoch 37/310\n",
      "191/191 [==============================] - 0s 2ms/step - loss: 0.6015 - accuracy: 0.8053 - val_loss: 0.5200 - val_accuracy: 0.8446\n",
      "Epoch 38/310\n",
      "191/191 [==============================] - 0s 2ms/step - loss: 0.5826 - accuracy: 0.8105 - val_loss: 0.5341 - val_accuracy: 0.8293\n",
      "Epoch 39/310\n",
      "191/191 [==============================] - 0s 2ms/step - loss: 0.5983 - accuracy: 0.8105 - val_loss: 0.5345 - val_accuracy: 0.8431\n",
      "Epoch 40/310\n",
      "191/191 [==============================] - 0s 2ms/step - loss: 0.6199 - accuracy: 0.8025 - val_loss: 0.5447 - val_accuracy: 0.8331\n",
      "Epoch 41/310\n",
      "191/191 [==============================] - 0s 2ms/step - loss: 0.5729 - accuracy: 0.8118 - val_loss: 0.5230 - val_accuracy: 0.8408\n",
      "Epoch 42/310\n",
      "191/191 [==============================] - 0s 2ms/step - loss: 0.5913 - accuracy: 0.8049 - val_loss: 0.5372 - val_accuracy: 0.8343\n",
      "Epoch 43/310\n",
      "191/191 [==============================] - 0s 2ms/step - loss: 0.6075 - accuracy: 0.8051 - val_loss: 0.5185 - val_accuracy: 0.8370\n",
      "Epoch 44/310\n",
      "191/191 [==============================] - 0s 2ms/step - loss: 0.5922 - accuracy: 0.8077 - val_loss: 0.5291 - val_accuracy: 0.8331\n",
      "Epoch 45/310\n",
      "191/191 [==============================] - 0s 2ms/step - loss: 0.6016 - accuracy: 0.8072 - val_loss: 0.5319 - val_accuracy: 0.8351\n",
      "Epoch 46/310\n",
      "191/191 [==============================] - 0s 2ms/step - loss: 0.6200 - accuracy: 0.7994 - val_loss: 0.5300 - val_accuracy: 0.8370\n",
      "Epoch 47/310\n",
      "191/191 [==============================] - 0s 2ms/step - loss: 0.6012 - accuracy: 0.8022 - val_loss: 0.5263 - val_accuracy: 0.8377\n",
      "Epoch 48/310\n",
      "191/191 [==============================] - 0s 2ms/step - loss: 0.6195 - accuracy: 0.8063 - val_loss: 0.5384 - val_accuracy: 0.8278\n",
      "Epoch 49/310\n",
      "191/191 [==============================] - 0s 2ms/step - loss: 0.5982 - accuracy: 0.8033 - val_loss: 0.5165 - val_accuracy: 0.8389\n",
      "Epoch 50/310\n",
      "191/191 [==============================] - 0s 2ms/step - loss: 0.5778 - accuracy: 0.8076 - val_loss: 0.5400 - val_accuracy: 0.8400\n",
      "Epoch 51/310\n",
      "191/191 [==============================] - 0s 2ms/step - loss: 0.6122 - accuracy: 0.8036 - val_loss: 0.5284 - val_accuracy: 0.8431\n",
      "Epoch 52/310\n",
      "191/191 [==============================] - 0s 2ms/step - loss: 0.5919 - accuracy: 0.8013 - val_loss: 0.5104 - val_accuracy: 0.8465\n",
      "Epoch 53/310\n",
      "191/191 [==============================] - 0s 2ms/step - loss: 0.5837 - accuracy: 0.8113 - val_loss: 0.5309 - val_accuracy: 0.8393\n",
      "Epoch 54/310\n",
      "191/191 [==============================] - 0s 2ms/step - loss: 0.6037 - accuracy: 0.8103 - val_loss: 0.5243 - val_accuracy: 0.8408\n",
      "Epoch 55/310\n",
      "191/191 [==============================] - 0s 2ms/step - loss: 0.6226 - accuracy: 0.8082 - val_loss: 0.5424 - val_accuracy: 0.8347\n",
      "Epoch 56/310\n",
      "191/191 [==============================] - 0s 2ms/step - loss: 0.6104 - accuracy: 0.8031 - val_loss: 0.5291 - val_accuracy: 0.8335\n",
      "Epoch 57/310\n",
      "191/191 [==============================] - 0s 2ms/step - loss: 0.6036 - accuracy: 0.7994 - val_loss: 0.5192 - val_accuracy: 0.8408\n"
     ]
    },
    {
     "name": "stdout",
     "output_type": "stream",
     "text": [
      "Epoch 58/310\n",
      "191/191 [==============================] - 0s 2ms/step - loss: 0.6225 - accuracy: 0.8038 - val_loss: 0.5374 - val_accuracy: 0.8331\n",
      "Epoch 59/310\n",
      "191/191 [==============================] - 0s 2ms/step - loss: 0.6044 - accuracy: 0.8053 - val_loss: 0.5340 - val_accuracy: 0.8312\n",
      "Epoch 60/310\n",
      "191/191 [==============================] - 0s 2ms/step - loss: 0.5962 - accuracy: 0.8094 - val_loss: 0.5228 - val_accuracy: 0.8412\n",
      "Epoch 61/310\n",
      "191/191 [==============================] - 0s 2ms/step - loss: 0.5979 - accuracy: 0.8031 - val_loss: 0.5217 - val_accuracy: 0.8400\n",
      "Epoch 62/310\n",
      "191/191 [==============================] - 0s 2ms/step - loss: 0.5726 - accuracy: 0.8156 - val_loss: 0.5132 - val_accuracy: 0.8366\n",
      "Epoch 63/310\n",
      "191/191 [==============================] - 0s 2ms/step - loss: 0.5866 - accuracy: 0.8058 - val_loss: 0.5239 - val_accuracy: 0.8370\n",
      "Epoch 64/310\n",
      "191/191 [==============================] - 0s 2ms/step - loss: 0.5892 - accuracy: 0.8110 - val_loss: 0.5205 - val_accuracy: 0.8423\n",
      "Epoch 65/310\n",
      "191/191 [==============================] - 0s 2ms/step - loss: 0.5946 - accuracy: 0.7997 - val_loss: 0.5258 - val_accuracy: 0.8373\n",
      "Epoch 66/310\n",
      "191/191 [==============================] - 0s 2ms/step - loss: 0.6273 - accuracy: 0.8002 - val_loss: 0.5235 - val_accuracy: 0.8423\n",
      "Epoch 67/310\n",
      "191/191 [==============================] - 0s 2ms/step - loss: 0.5867 - accuracy: 0.8071 - val_loss: 0.5121 - val_accuracy: 0.8412\n",
      "Epoch 68/310\n",
      "191/191 [==============================] - 0s 2ms/step - loss: 0.6123 - accuracy: 0.8056 - val_loss: 0.5320 - val_accuracy: 0.8351\n",
      "Epoch 69/310\n",
      "191/191 [==============================] - 0s 2ms/step - loss: 0.6070 - accuracy: 0.8038 - val_loss: 0.5162 - val_accuracy: 0.8415\n",
      "Epoch 70/310\n",
      "191/191 [==============================] - 0s 2ms/step - loss: 0.6035 - accuracy: 0.8041 - val_loss: 0.5132 - val_accuracy: 0.8477\n",
      "Epoch 71/310\n",
      "191/191 [==============================] - 0s 2ms/step - loss: 0.5725 - accuracy: 0.8148 - val_loss: 0.5284 - val_accuracy: 0.8358\n",
      "Epoch 72/310\n",
      "191/191 [==============================] - 0s 2ms/step - loss: 0.5981 - accuracy: 0.8120 - val_loss: 0.5155 - val_accuracy: 0.8377\n",
      "Epoch 73/310\n",
      "191/191 [==============================] - 0s 2ms/step - loss: 0.5999 - accuracy: 0.8038 - val_loss: 0.5226 - val_accuracy: 0.8377\n",
      "Epoch 74/310\n",
      "191/191 [==============================] - 0s 2ms/step - loss: 0.6029 - accuracy: 0.8079 - val_loss: 0.5105 - val_accuracy: 0.8358\n",
      "Epoch 75/310\n",
      "191/191 [==============================] - 0s 2ms/step - loss: 0.6190 - accuracy: 0.8027 - val_loss: 0.5161 - val_accuracy: 0.8446\n",
      "Epoch 76/310\n",
      "191/191 [==============================] - 0s 2ms/step - loss: 0.5887 - accuracy: 0.8023 - val_loss: 0.5103 - val_accuracy: 0.8370\n",
      "Epoch 77/310\n",
      "191/191 [==============================] - 0s 2ms/step - loss: 0.5968 - accuracy: 0.8025 - val_loss: 0.5104 - val_accuracy: 0.8373\n",
      "Epoch 78/310\n",
      "191/191 [==============================] - 0s 2ms/step - loss: 0.5824 - accuracy: 0.8167 - val_loss: 0.5273 - val_accuracy: 0.8358\n",
      "Epoch 79/310\n",
      "191/191 [==============================] - 0s 2ms/step - loss: 0.5857 - accuracy: 0.8103 - val_loss: 0.5389 - val_accuracy: 0.8312\n",
      "Epoch 80/310\n",
      "191/191 [==============================] - 0s 2ms/step - loss: 0.6151 - accuracy: 0.7986 - val_loss: 0.5298 - val_accuracy: 0.8370\n",
      "Epoch 81/310\n",
      "191/191 [==============================] - 0s 2ms/step - loss: 0.5853 - accuracy: 0.8164 - val_loss: 0.5240 - val_accuracy: 0.8393\n",
      "Epoch 82/310\n",
      "191/191 [==============================] - 0s 2ms/step - loss: 0.6081 - accuracy: 0.8009 - val_loss: 0.5108 - val_accuracy: 0.8442\n",
      "Epoch 83/310\n",
      "191/191 [==============================] - 0s 2ms/step - loss: 0.6191 - accuracy: 0.8059 - val_loss: 0.5212 - val_accuracy: 0.8385\n",
      "Epoch 84/310\n",
      "191/191 [==============================] - 0s 2ms/step - loss: 0.5885 - accuracy: 0.8138 - val_loss: 0.5123 - val_accuracy: 0.8431\n",
      "Epoch 85/310\n",
      "191/191 [==============================] - 0s 2ms/step - loss: 0.5882 - accuracy: 0.8081 - val_loss: 0.5203 - val_accuracy: 0.8396\n",
      "Epoch 86/310\n",
      "191/191 [==============================] - 0s 2ms/step - loss: 0.6016 - accuracy: 0.8035 - val_loss: 0.5317 - val_accuracy: 0.8362\n",
      "Epoch 87/310\n",
      "191/191 [==============================] - 0s 2ms/step - loss: 0.5813 - accuracy: 0.8097 - val_loss: 0.5279 - val_accuracy: 0.8370\n",
      "Epoch 88/310\n",
      "191/191 [==============================] - 0s 2ms/step - loss: 0.6091 - accuracy: 0.8028 - val_loss: 0.5017 - val_accuracy: 0.8412\n",
      "Epoch 89/310\n",
      "191/191 [==============================] - 0s 2ms/step - loss: 0.6016 - accuracy: 0.8048 - val_loss: 0.5160 - val_accuracy: 0.8412\n",
      "Epoch 90/310\n",
      "191/191 [==============================] - 0s 2ms/step - loss: 0.5905 - accuracy: 0.8148 - val_loss: 0.5179 - val_accuracy: 0.8438\n",
      "Epoch 91/310\n",
      "191/191 [==============================] - 0s 2ms/step - loss: 0.6117 - accuracy: 0.8033 - val_loss: 0.5005 - val_accuracy: 0.8457\n",
      "Epoch 92/310\n",
      "191/191 [==============================] - 0s 2ms/step - loss: 0.6143 - accuracy: 0.8027 - val_loss: 0.5200 - val_accuracy: 0.8385\n",
      "Epoch 93/310\n",
      "191/191 [==============================] - 0s 2ms/step - loss: 0.5917 - accuracy: 0.8058 - val_loss: 0.5248 - val_accuracy: 0.8415\n",
      "Epoch 94/310\n",
      "191/191 [==============================] - 0s 2ms/step - loss: 0.6308 - accuracy: 0.8009 - val_loss: 0.5197 - val_accuracy: 0.8377\n",
      "Epoch 95/310\n",
      "191/191 [==============================] - 0s 2ms/step - loss: 0.6050 - accuracy: 0.8082 - val_loss: 0.5419 - val_accuracy: 0.8339\n",
      "Epoch 96/310\n",
      "191/191 [==============================] - 0s 2ms/step - loss: 0.5956 - accuracy: 0.8110 - val_loss: 0.5286 - val_accuracy: 0.8393\n",
      "Epoch 97/310\n",
      "191/191 [==============================] - 0s 2ms/step - loss: 0.6207 - accuracy: 0.8025 - val_loss: 0.5148 - val_accuracy: 0.8423\n",
      "Epoch 98/310\n",
      "191/191 [==============================] - 0s 2ms/step - loss: 0.5976 - accuracy: 0.8007 - val_loss: 0.5132 - val_accuracy: 0.8351\n",
      "Epoch 99/310\n",
      "191/191 [==============================] - 0s 2ms/step - loss: 0.5939 - accuracy: 0.8023 - val_loss: 0.5277 - val_accuracy: 0.8354\n",
      "Epoch 100/310\n",
      "191/191 [==============================] - 0s 2ms/step - loss: 0.5926 - accuracy: 0.8079 - val_loss: 0.5258 - val_accuracy: 0.8377\n",
      "Epoch 101/310\n",
      "191/191 [==============================] - 0s 2ms/step - loss: 0.6031 - accuracy: 0.8049 - val_loss: 0.5123 - val_accuracy: 0.8370\n",
      "Epoch 102/310\n",
      "191/191 [==============================] - 0s 2ms/step - loss: 0.6040 - accuracy: 0.8077 - val_loss: 0.5136 - val_accuracy: 0.8289\n",
      "Epoch 103/310\n",
      "191/191 [==============================] - 0s 2ms/step - loss: 0.6101 - accuracy: 0.8002 - val_loss: 0.5122 - val_accuracy: 0.8415\n",
      "Epoch 104/310\n",
      "191/191 [==============================] - 0s 2ms/step - loss: 0.6023 - accuracy: 0.8018 - val_loss: 0.5054 - val_accuracy: 0.8446\n",
      "Epoch 105/310\n",
      "191/191 [==============================] - 0s 2ms/step - loss: 0.5907 - accuracy: 0.8072 - val_loss: 0.5240 - val_accuracy: 0.8320\n",
      "Epoch 106/310\n",
      "191/191 [==============================] - 0s 2ms/step - loss: 0.5979 - accuracy: 0.8038 - val_loss: 0.5077 - val_accuracy: 0.8385\n",
      "Epoch 107/310\n",
      "191/191 [==============================] - 0s 2ms/step - loss: 0.5965 - accuracy: 0.8028 - val_loss: 0.5176 - val_accuracy: 0.8320\n",
      "Epoch 108/310\n",
      "191/191 [==============================] - 0s 2ms/step - loss: 0.6330 - accuracy: 0.7955 - val_loss: 0.5001 - val_accuracy: 0.8415\n",
      "Epoch 109/310\n",
      "191/191 [==============================] - 0s 2ms/step - loss: 0.6122 - accuracy: 0.8036 - val_loss: 0.5065 - val_accuracy: 0.8377\n",
      "Epoch 110/310\n",
      "191/191 [==============================] - 0s 2ms/step - loss: 0.5714 - accuracy: 0.8157 - val_loss: 0.5353 - val_accuracy: 0.8320\n",
      "Epoch 111/310\n",
      "191/191 [==============================] - 0s 2ms/step - loss: 0.5894 - accuracy: 0.8074 - val_loss: 0.5189 - val_accuracy: 0.8385\n",
      "Epoch 112/310\n",
      "191/191 [==============================] - 0s 2ms/step - loss: 0.6014 - accuracy: 0.8067 - val_loss: 0.5279 - val_accuracy: 0.8389\n",
      "Epoch 113/310\n",
      "191/191 [==============================] - 0s 2ms/step - loss: 0.6265 - accuracy: 0.7995 - val_loss: 0.5091 - val_accuracy: 0.8431\n",
      "Epoch 114/310\n",
      "191/191 [==============================] - 0s 2ms/step - loss: 0.6341 - accuracy: 0.7981 - val_loss: 0.5058 - val_accuracy: 0.8438\n"
     ]
    },
    {
     "name": "stdout",
     "output_type": "stream",
     "text": [
      "Epoch 115/310\n",
      "191/191 [==============================] - 0s 2ms/step - loss: 0.6146 - accuracy: 0.8046 - val_loss: 0.5076 - val_accuracy: 0.8465\n",
      "Epoch 116/310\n",
      "191/191 [==============================] - 0s 2ms/step - loss: 0.6185 - accuracy: 0.8015 - val_loss: 0.5423 - val_accuracy: 0.8347\n",
      "Epoch 117/310\n",
      "191/191 [==============================] - 0s 2ms/step - loss: 0.5916 - accuracy: 0.8094 - val_loss: 0.5235 - val_accuracy: 0.8381\n",
      "Epoch 118/310\n",
      "191/191 [==============================] - 0s 2ms/step - loss: 0.6003 - accuracy: 0.8053 - val_loss: 0.5263 - val_accuracy: 0.8370\n",
      "Epoch 119/310\n",
      "191/191 [==============================] - 0s 2ms/step - loss: 0.6092 - accuracy: 0.7999 - val_loss: 0.5307 - val_accuracy: 0.8320\n",
      "Epoch 120/310\n",
      "191/191 [==============================] - 0s 2ms/step - loss: 0.5950 - accuracy: 0.8063 - val_loss: 0.5452 - val_accuracy: 0.8267\n",
      "Epoch 121/310\n",
      "191/191 [==============================] - 0s 2ms/step - loss: 0.6116 - accuracy: 0.8018 - val_loss: 0.5244 - val_accuracy: 0.8366\n",
      "Epoch 122/310\n",
      "191/191 [==============================] - 0s 2ms/step - loss: 0.6070 - accuracy: 0.7992 - val_loss: 0.5258 - val_accuracy: 0.8366\n",
      "Epoch 123/310\n",
      "191/191 [==============================] - 0s 2ms/step - loss: 0.5930 - accuracy: 0.8092 - val_loss: 0.5336 - val_accuracy: 0.8343\n",
      "Epoch 124/310\n",
      "191/191 [==============================] - 0s 2ms/step - loss: 0.5856 - accuracy: 0.8153 - val_loss: 0.5226 - val_accuracy: 0.8362\n",
      "Epoch 125/310\n",
      "191/191 [==============================] - 0s 2ms/step - loss: 0.5860 - accuracy: 0.8110 - val_loss: 0.5285 - val_accuracy: 0.8335\n",
      "Epoch 126/310\n",
      "191/191 [==============================] - 0s 2ms/step - loss: 0.6019 - accuracy: 0.8077 - val_loss: 0.5174 - val_accuracy: 0.8358\n",
      "Epoch 127/310\n",
      "191/191 [==============================] - 0s 2ms/step - loss: 0.5922 - accuracy: 0.8141 - val_loss: 0.5009 - val_accuracy: 0.8385\n",
      "Epoch 128/310\n",
      "191/191 [==============================] - 0s 2ms/step - loss: 0.5880 - accuracy: 0.8120 - val_loss: 0.5120 - val_accuracy: 0.8377\n",
      "Epoch 129/310\n",
      "191/191 [==============================] - 0s 2ms/step - loss: 0.5877 - accuracy: 0.8089 - val_loss: 0.5188 - val_accuracy: 0.8404\n",
      "Epoch 130/310\n",
      "191/191 [==============================] - 0s 2ms/step - loss: 0.6028 - accuracy: 0.8079 - val_loss: 0.5254 - val_accuracy: 0.8423\n",
      "Epoch 131/310\n",
      "191/191 [==============================] - 0s 2ms/step - loss: 0.5855 - accuracy: 0.8146 - val_loss: 0.5066 - val_accuracy: 0.8358\n",
      "Epoch 132/310\n",
      "191/191 [==============================] - 0s 2ms/step - loss: 0.6090 - accuracy: 0.8015 - val_loss: 0.5122 - val_accuracy: 0.8419\n",
      "Epoch 133/310\n",
      "191/191 [==============================] - 0s 2ms/step - loss: 0.6069 - accuracy: 0.7995 - val_loss: 0.5105 - val_accuracy: 0.8347\n",
      "Epoch 134/310\n",
      "191/191 [==============================] - 0s 2ms/step - loss: 0.6293 - accuracy: 0.8015 - val_loss: 0.5029 - val_accuracy: 0.8423\n",
      "Epoch 135/310\n",
      "191/191 [==============================] - 0s 2ms/step - loss: 0.5892 - accuracy: 0.8031 - val_loss: 0.5100 - val_accuracy: 0.8412\n",
      "Epoch 136/310\n",
      "191/191 [==============================] - 0s 2ms/step - loss: 0.6122 - accuracy: 0.8043 - val_loss: 0.5218 - val_accuracy: 0.8358\n",
      "Epoch 137/310\n",
      "191/191 [==============================] - 0s 2ms/step - loss: 0.6153 - accuracy: 0.7982 - val_loss: 0.5148 - val_accuracy: 0.8320\n",
      "Epoch 138/310\n",
      "191/191 [==============================] - 0s 2ms/step - loss: 0.5922 - accuracy: 0.8063 - val_loss: 0.5399 - val_accuracy: 0.8347\n",
      "Epoch 139/310\n",
      "191/191 [==============================] - 0s 2ms/step - loss: 0.6091 - accuracy: 0.7989 - val_loss: 0.5294 - val_accuracy: 0.8309\n",
      "Epoch 140/310\n",
      "191/191 [==============================] - 0s 2ms/step - loss: 0.6037 - accuracy: 0.8059 - val_loss: 0.5306 - val_accuracy: 0.8316\n",
      "Epoch 141/310\n",
      "191/191 [==============================] - 0s 2ms/step - loss: 0.6127 - accuracy: 0.7981 - val_loss: 0.5210 - val_accuracy: 0.8328\n",
      "Epoch 142/310\n",
      "191/191 [==============================] - 0s 2ms/step - loss: 0.5877 - accuracy: 0.8085 - val_loss: 0.5211 - val_accuracy: 0.8373\n",
      "Epoch 143/310\n",
      "191/191 [==============================] - 0s 2ms/step - loss: 0.6030 - accuracy: 0.8063 - val_loss: 0.5056 - val_accuracy: 0.8446\n",
      "Epoch 144/310\n",
      "191/191 [==============================] - 0s 2ms/step - loss: 0.5827 - accuracy: 0.8092 - val_loss: 0.5278 - val_accuracy: 0.8351\n",
      "Epoch 145/310\n",
      "191/191 [==============================] - 0s 2ms/step - loss: 0.5859 - accuracy: 0.8154 - val_loss: 0.5298 - val_accuracy: 0.8373\n",
      "Epoch 146/310\n",
      "191/191 [==============================] - 0s 2ms/step - loss: 0.5910 - accuracy: 0.8030 - val_loss: 0.5204 - val_accuracy: 0.8373\n",
      "Epoch 147/310\n",
      "191/191 [==============================] - 0s 2ms/step - loss: 0.5996 - accuracy: 0.8126 - val_loss: 0.5337 - val_accuracy: 0.8282\n",
      "Epoch 148/310\n",
      "191/191 [==============================] - 0s 2ms/step - loss: 0.6076 - accuracy: 0.8064 - val_loss: 0.5310 - val_accuracy: 0.8324\n",
      "Epoch 149/310\n",
      "191/191 [==============================] - 0s 2ms/step - loss: 0.5974 - accuracy: 0.8058 - val_loss: 0.5049 - val_accuracy: 0.8431\n",
      "Epoch 150/310\n",
      "191/191 [==============================] - 0s 2ms/step - loss: 0.6007 - accuracy: 0.8076 - val_loss: 0.5077 - val_accuracy: 0.8370\n",
      "Epoch 151/310\n",
      "191/191 [==============================] - 0s 2ms/step - loss: 0.6061 - accuracy: 0.8010 - val_loss: 0.5264 - val_accuracy: 0.8377\n",
      "Epoch 152/310\n",
      "191/191 [==============================] - 0s 2ms/step - loss: 0.5881 - accuracy: 0.8058 - val_loss: 0.5125 - val_accuracy: 0.8400\n",
      "Epoch 153/310\n",
      "191/191 [==============================] - 0s 2ms/step - loss: 0.5926 - accuracy: 0.8099 - val_loss: 0.5175 - val_accuracy: 0.8347\n",
      "Epoch 154/310\n",
      "191/191 [==============================] - 0s 2ms/step - loss: 0.5656 - accuracy: 0.8192 - val_loss: 0.5230 - val_accuracy: 0.8362\n",
      "Epoch 155/310\n",
      "191/191 [==============================] - 0s 2ms/step - loss: 0.5629 - accuracy: 0.8115 - val_loss: 0.5114 - val_accuracy: 0.8347\n",
      "Epoch 156/310\n",
      "191/191 [==============================] - 0s 2ms/step - loss: 0.5827 - accuracy: 0.8103 - val_loss: 0.5175 - val_accuracy: 0.8400\n",
      "Epoch 157/310\n",
      "191/191 [==============================] - 0s 2ms/step - loss: 0.6222 - accuracy: 0.7986 - val_loss: 0.5104 - val_accuracy: 0.8396\n",
      "Epoch 158/310\n",
      "191/191 [==============================] - 0s 2ms/step - loss: 0.5756 - accuracy: 0.8154 - val_loss: 0.5023 - val_accuracy: 0.8438\n",
      "Epoch 159/310\n",
      "191/191 [==============================] - 0s 2ms/step - loss: 0.6273 - accuracy: 0.8015 - val_loss: 0.5309 - val_accuracy: 0.8358\n",
      "Epoch 160/310\n",
      "191/191 [==============================] - 0s 2ms/step - loss: 0.6285 - accuracy: 0.8051 - val_loss: 0.5192 - val_accuracy: 0.8351\n",
      "Epoch 161/310\n",
      "191/191 [==============================] - 0s 2ms/step - loss: 0.6064 - accuracy: 0.8031 - val_loss: 0.5117 - val_accuracy: 0.8446\n",
      "Epoch 162/310\n",
      "191/191 [==============================] - 0s 2ms/step - loss: 0.5866 - accuracy: 0.8151 - val_loss: 0.5267 - val_accuracy: 0.8358\n",
      "Epoch 163/310\n",
      "191/191 [==============================] - 0s 2ms/step - loss: 0.5954 - accuracy: 0.8115 - val_loss: 0.5088 - val_accuracy: 0.8370\n",
      "Epoch 164/310\n",
      "191/191 [==============================] - 0s 2ms/step - loss: 0.5903 - accuracy: 0.8108 - val_loss: 0.5316 - val_accuracy: 0.8381\n",
      "Epoch 165/310\n",
      "191/191 [==============================] - 0s 2ms/step - loss: 0.5844 - accuracy: 0.8192 - val_loss: 0.5193 - val_accuracy: 0.8354\n",
      "Epoch 166/310\n",
      "191/191 [==============================] - 0s 2ms/step - loss: 0.6107 - accuracy: 0.8063 - val_loss: 0.5218 - val_accuracy: 0.8396\n",
      "Epoch 167/310\n",
      "191/191 [==============================] - 0s 2ms/step - loss: 0.5712 - accuracy: 0.8130 - val_loss: 0.5105 - val_accuracy: 0.8347\n",
      "Epoch 168/310\n",
      "191/191 [==============================] - 0s 2ms/step - loss: 0.6034 - accuracy: 0.8051 - val_loss: 0.5206 - val_accuracy: 0.8351\n",
      "Epoch 169/310\n",
      "191/191 [==============================] - 0s 2ms/step - loss: 0.5963 - accuracy: 0.8077 - val_loss: 0.5072 - val_accuracy: 0.8446\n",
      "Epoch 170/310\n",
      "191/191 [==============================] - 0s 2ms/step - loss: 0.5826 - accuracy: 0.8133 - val_loss: 0.4925 - val_accuracy: 0.8396\n",
      "Epoch 171/310\n",
      "191/191 [==============================] - 0s 2ms/step - loss: 0.5848 - accuracy: 0.8099 - val_loss: 0.5243 - val_accuracy: 0.8354\n",
      "Epoch 172/310\n",
      "191/191 [==============================] - 0s 2ms/step - loss: 0.6073 - accuracy: 0.8112 - val_loss: 0.5012 - val_accuracy: 0.8408\n",
      "Epoch 173/310\n",
      "191/191 [==============================] - 0s 2ms/step - loss: 0.5974 - accuracy: 0.8102 - val_loss: 0.5183 - val_accuracy: 0.8366\n",
      "Epoch 174/310\n",
      "191/191 [==============================] - 0s 2ms/step - loss: 0.6080 - accuracy: 0.8064 - val_loss: 0.5282 - val_accuracy: 0.8274\n",
      "Epoch 175/310\n",
      "191/191 [==============================] - 0s 2ms/step - loss: 0.5939 - accuracy: 0.8084 - val_loss: 0.5331 - val_accuracy: 0.8358\n",
      "Epoch 176/310\n",
      "191/191 [==============================] - 0s 2ms/step - loss: 0.6010 - accuracy: 0.8051 - val_loss: 0.5091 - val_accuracy: 0.8419\n",
      "Epoch 177/310\n",
      "191/191 [==============================] - 0s 2ms/step - loss: 0.6116 - accuracy: 0.8081 - val_loss: 0.4974 - val_accuracy: 0.8427\n",
      "Epoch 178/310\n",
      "191/191 [==============================] - 0s 2ms/step - loss: 0.6149 - accuracy: 0.8056 - val_loss: 0.5214 - val_accuracy: 0.8335\n",
      "Epoch 179/310\n",
      "191/191 [==============================] - 0s 2ms/step - loss: 0.6122 - accuracy: 0.7994 - val_loss: 0.5216 - val_accuracy: 0.8293\n",
      "Epoch 180/310\n",
      "191/191 [==============================] - 0s 2ms/step - loss: 0.6145 - accuracy: 0.8054 - val_loss: 0.5257 - val_accuracy: 0.8396\n",
      "Epoch 181/310\n",
      "191/191 [==============================] - 0s 2ms/step - loss: 0.6110 - accuracy: 0.8077 - val_loss: 0.5096 - val_accuracy: 0.8469\n",
      "Epoch 182/310\n",
      "191/191 [==============================] - 0s 2ms/step - loss: 0.6008 - accuracy: 0.8064 - val_loss: 0.5263 - val_accuracy: 0.8324\n",
      "Epoch 183/310\n",
      "191/191 [==============================] - 0s 2ms/step - loss: 0.6027 - accuracy: 0.8081 - val_loss: 0.5435 - val_accuracy: 0.8339\n",
      "Epoch 184/310\n",
      "191/191 [==============================] - 0s 2ms/step - loss: 0.5742 - accuracy: 0.8171 - val_loss: 0.5207 - val_accuracy: 0.8339\n",
      "Epoch 185/310\n",
      "191/191 [==============================] - 0s 2ms/step - loss: 0.6047 - accuracy: 0.8107 - val_loss: 0.5219 - val_accuracy: 0.8305\n",
      "Epoch 186/310\n",
      "191/191 [==============================] - 0s 2ms/step - loss: 0.5847 - accuracy: 0.8090 - val_loss: 0.5191 - val_accuracy: 0.8331\n",
      "Epoch 187/310\n",
      "191/191 [==============================] - 0s 2ms/step - loss: 0.5950 - accuracy: 0.8131 - val_loss: 0.5052 - val_accuracy: 0.8389\n",
      "Epoch 188/310\n",
      "191/191 [==============================] - 0s 2ms/step - loss: 0.5982 - accuracy: 0.8067 - val_loss: 0.5290 - val_accuracy: 0.8316\n",
      "Epoch 189/310\n",
      "191/191 [==============================] - 0s 2ms/step - loss: 0.5856 - accuracy: 0.8067 - val_loss: 0.5161 - val_accuracy: 0.8370\n",
      "Epoch 190/310\n",
      "191/191 [==============================] - 0s 2ms/step - loss: 0.5701 - accuracy: 0.8107 - val_loss: 0.5017 - val_accuracy: 0.8438\n",
      "Epoch 191/310\n",
      "191/191 [==============================] - 0s 2ms/step - loss: 0.5964 - accuracy: 0.8084 - val_loss: 0.5066 - val_accuracy: 0.8412\n",
      "Epoch 192/310\n",
      "191/191 [==============================] - 0s 2ms/step - loss: 0.5892 - accuracy: 0.8100 - val_loss: 0.5290 - val_accuracy: 0.8370\n",
      "Epoch 193/310\n",
      "191/191 [==============================] - 0s 2ms/step - loss: 0.6167 - accuracy: 0.8004 - val_loss: 0.5389 - val_accuracy: 0.8274\n",
      "Epoch 194/310\n",
      "191/191 [==============================] - 0s 2ms/step - loss: 0.5978 - accuracy: 0.8035 - val_loss: 0.5199 - val_accuracy: 0.8377\n",
      "Epoch 195/310\n",
      "191/191 [==============================] - 0s 2ms/step - loss: 0.5974 - accuracy: 0.8058 - val_loss: 0.5244 - val_accuracy: 0.8328\n",
      "Epoch 196/310\n",
      "191/191 [==============================] - 0s 2ms/step - loss: 0.5827 - accuracy: 0.8115 - val_loss: 0.5127 - val_accuracy: 0.8393\n",
      "Epoch 197/310\n",
      "191/191 [==============================] - 0s 2ms/step - loss: 0.5753 - accuracy: 0.8022 - val_loss: 0.5058 - val_accuracy: 0.8431\n",
      "Epoch 198/310\n",
      "191/191 [==============================] - 0s 2ms/step - loss: 0.5939 - accuracy: 0.8067 - val_loss: 0.5199 - val_accuracy: 0.8431\n",
      "Epoch 199/310\n",
      "191/191 [==============================] - 0s 2ms/step - loss: 0.5975 - accuracy: 0.8048 - val_loss: 0.5122 - val_accuracy: 0.8400\n",
      "Epoch 200/310\n",
      "191/191 [==============================] - 0s 2ms/step - loss: 0.5776 - accuracy: 0.8146 - val_loss: 0.5221 - val_accuracy: 0.8328\n",
      "Epoch 201/310\n",
      "191/191 [==============================] - 0s 2ms/step - loss: 0.5728 - accuracy: 0.8141 - val_loss: 0.5030 - val_accuracy: 0.8431\n",
      "Epoch 202/310\n",
      "191/191 [==============================] - 0s 2ms/step - loss: 0.5981 - accuracy: 0.8028 - val_loss: 0.5322 - val_accuracy: 0.8373\n",
      "Epoch 203/310\n",
      "191/191 [==============================] - 0s 2ms/step - loss: 0.5883 - accuracy: 0.8033 - val_loss: 0.5212 - val_accuracy: 0.8415\n",
      "Epoch 204/310\n",
      "191/191 [==============================] - 0s 2ms/step - loss: 0.6200 - accuracy: 0.8053 - val_loss: 0.5203 - val_accuracy: 0.8408\n",
      "Epoch 205/310\n",
      "191/191 [==============================] - 0s 2ms/step - loss: 0.5579 - accuracy: 0.8130 - val_loss: 0.5216 - val_accuracy: 0.8305\n",
      "Epoch 206/310\n",
      "191/191 [==============================] - 0s 2ms/step - loss: 0.5654 - accuracy: 0.8148 - val_loss: 0.5117 - val_accuracy: 0.8351\n",
      "Epoch 207/310\n",
      "191/191 [==============================] - 0s 2ms/step - loss: 0.5922 - accuracy: 0.8082 - val_loss: 0.5318 - val_accuracy: 0.8400\n",
      "Epoch 208/310\n",
      "191/191 [==============================] - 0s 2ms/step - loss: 0.5971 - accuracy: 0.8082 - val_loss: 0.5180 - val_accuracy: 0.8412\n",
      "Epoch 209/310\n",
      "191/191 [==============================] - 0s 2ms/step - loss: 0.6024 - accuracy: 0.8054 - val_loss: 0.5245 - val_accuracy: 0.8400\n",
      "Epoch 210/310\n",
      "191/191 [==============================] - 0s 2ms/step - loss: 0.5879 - accuracy: 0.8056 - val_loss: 0.5230 - val_accuracy: 0.8400\n",
      "Epoch 211/310\n",
      "191/191 [==============================] - 0s 2ms/step - loss: 0.5815 - accuracy: 0.8120 - val_loss: 0.5297 - val_accuracy: 0.8347\n",
      "Epoch 212/310\n",
      "191/191 [==============================] - 0s 2ms/step - loss: 0.6142 - accuracy: 0.8059 - val_loss: 0.5338 - val_accuracy: 0.8316\n",
      "Epoch 213/310\n",
      "191/191 [==============================] - 0s 2ms/step - loss: 0.5844 - accuracy: 0.8133 - val_loss: 0.5167 - val_accuracy: 0.8385\n",
      "Epoch 214/310\n",
      "191/191 [==============================] - 0s 2ms/step - loss: 0.5881 - accuracy: 0.8084 - val_loss: 0.5049 - val_accuracy: 0.8381\n",
      "Epoch 215/310\n",
      "191/191 [==============================] - 0s 2ms/step - loss: 0.5896 - accuracy: 0.8087 - val_loss: 0.5013 - val_accuracy: 0.8408\n",
      "Epoch 216/310\n",
      "191/191 [==============================] - 0s 2ms/step - loss: 0.5804 - accuracy: 0.8130 - val_loss: 0.4945 - val_accuracy: 0.8465\n",
      "Epoch 217/310\n",
      "191/191 [==============================] - 0s 2ms/step - loss: 0.5931 - accuracy: 0.8048 - val_loss: 0.5154 - val_accuracy: 0.8415\n",
      "Epoch 218/310\n",
      "191/191 [==============================] - 0s 2ms/step - loss: 0.5945 - accuracy: 0.8100 - val_loss: 0.5115 - val_accuracy: 0.8427\n",
      "Epoch 219/310\n",
      "191/191 [==============================] - 0s 2ms/step - loss: 0.5794 - accuracy: 0.8035 - val_loss: 0.5050 - val_accuracy: 0.8423\n",
      "Epoch 220/310\n",
      "191/191 [==============================] - 0s 2ms/step - loss: 0.5979 - accuracy: 0.8038 - val_loss: 0.5186 - val_accuracy: 0.8293\n",
      "Epoch 221/310\n",
      "191/191 [==============================] - 0s 2ms/step - loss: 0.5882 - accuracy: 0.8092 - val_loss: 0.5054 - val_accuracy: 0.8370\n",
      "Epoch 222/310\n",
      "191/191 [==============================] - 0s 2ms/step - loss: 0.6061 - accuracy: 0.8066 - val_loss: 0.5038 - val_accuracy: 0.8404\n",
      "Epoch 223/310\n",
      "191/191 [==============================] - 0s 2ms/step - loss: 0.5689 - accuracy: 0.8172 - val_loss: 0.5252 - val_accuracy: 0.8316\n",
      "Epoch 224/310\n",
      "191/191 [==============================] - 0s 2ms/step - loss: 0.6161 - accuracy: 0.8067 - val_loss: 0.5507 - val_accuracy: 0.8255\n",
      "Epoch 225/310\n",
      "191/191 [==============================] - 0s 2ms/step - loss: 0.6040 - accuracy: 0.8084 - val_loss: 0.5214 - val_accuracy: 0.8396\n",
      "Epoch 226/310\n",
      "191/191 [==============================] - 0s 2ms/step - loss: 0.6032 - accuracy: 0.8094 - val_loss: 0.5260 - val_accuracy: 0.8370\n",
      "Epoch 227/310\n"
     ]
    },
    {
     "name": "stdout",
     "output_type": "stream",
     "text": [
      "191/191 [==============================] - 0s 2ms/step - loss: 0.5841 - accuracy: 0.8056 - val_loss: 0.4929 - val_accuracy: 0.8423\n",
      "Epoch 228/310\n",
      "191/191 [==============================] - 0s 2ms/step - loss: 0.5907 - accuracy: 0.8056 - val_loss: 0.5148 - val_accuracy: 0.8396\n",
      "Epoch 229/310\n",
      "191/191 [==============================] - 0s 2ms/step - loss: 0.6048 - accuracy: 0.8030 - val_loss: 0.5221 - val_accuracy: 0.8339\n",
      "Epoch 230/310\n",
      "191/191 [==============================] - 0s 2ms/step - loss: 0.6232 - accuracy: 0.8027 - val_loss: 0.5440 - val_accuracy: 0.8293\n",
      "Epoch 231/310\n",
      "191/191 [==============================] - 0s 2ms/step - loss: 0.6092 - accuracy: 0.8027 - val_loss: 0.5061 - val_accuracy: 0.8469\n",
      "Epoch 232/310\n",
      "191/191 [==============================] - 0s 2ms/step - loss: 0.5684 - accuracy: 0.8118 - val_loss: 0.5040 - val_accuracy: 0.8404\n",
      "Epoch 233/310\n",
      "191/191 [==============================] - 0s 2ms/step - loss: 0.5732 - accuracy: 0.8074 - val_loss: 0.5295 - val_accuracy: 0.8381\n",
      "Epoch 234/310\n",
      "191/191 [==============================] - 0s 2ms/step - loss: 0.5907 - accuracy: 0.8117 - val_loss: 0.5030 - val_accuracy: 0.8438\n",
      "Epoch 235/310\n",
      "191/191 [==============================] - 0s 2ms/step - loss: 0.5834 - accuracy: 0.8128 - val_loss: 0.5161 - val_accuracy: 0.8347\n",
      "Epoch 236/310\n",
      "191/191 [==============================] - 0s 2ms/step - loss: 0.6039 - accuracy: 0.8089 - val_loss: 0.5130 - val_accuracy: 0.8339\n",
      "Epoch 237/310\n",
      "191/191 [==============================] - 0s 2ms/step - loss: 0.5853 - accuracy: 0.8146 - val_loss: 0.5174 - val_accuracy: 0.8335\n",
      "Epoch 238/310\n",
      "191/191 [==============================] - 0s 2ms/step - loss: 0.5754 - accuracy: 0.8115 - val_loss: 0.5277 - val_accuracy: 0.8339\n",
      "Epoch 239/310\n",
      "191/191 [==============================] - 0s 2ms/step - loss: 0.5941 - accuracy: 0.8054 - val_loss: 0.5121 - val_accuracy: 0.8385\n",
      "Epoch 240/310\n",
      "191/191 [==============================] - 0s 2ms/step - loss: 0.5773 - accuracy: 0.8130 - val_loss: 0.5097 - val_accuracy: 0.8404\n",
      "Epoch 241/310\n",
      "191/191 [==============================] - 0s 2ms/step - loss: 0.5771 - accuracy: 0.8148 - val_loss: 0.5096 - val_accuracy: 0.8404\n",
      "Epoch 242/310\n",
      "191/191 [==============================] - 0s 2ms/step - loss: 0.5906 - accuracy: 0.8007 - val_loss: 0.5047 - val_accuracy: 0.8423\n",
      "Epoch 243/310\n",
      "191/191 [==============================] - 0s 2ms/step - loss: 0.5755 - accuracy: 0.8108 - val_loss: 0.5454 - val_accuracy: 0.8412\n",
      "Epoch 244/310\n",
      "191/191 [==============================] - 0s 2ms/step - loss: 0.5731 - accuracy: 0.8182 - val_loss: 0.5227 - val_accuracy: 0.8320\n",
      "Epoch 245/310\n",
      "191/191 [==============================] - 0s 2ms/step - loss: 0.5919 - accuracy: 0.8048 - val_loss: 0.5188 - val_accuracy: 0.8427\n",
      "Epoch 246/310\n",
      "191/191 [==============================] - 0s 2ms/step - loss: 0.5849 - accuracy: 0.8120 - val_loss: 0.5344 - val_accuracy: 0.8370\n",
      "Epoch 247/310\n",
      "191/191 [==============================] - 0s 2ms/step - loss: 0.5983 - accuracy: 0.8064 - val_loss: 0.5277 - val_accuracy: 0.8389\n",
      "Epoch 248/310\n",
      "191/191 [==============================] - 0s 2ms/step - loss: 0.5553 - accuracy: 0.8216 - val_loss: 0.5022 - val_accuracy: 0.8370\n",
      "Epoch 249/310\n",
      "191/191 [==============================] - 0s 2ms/step - loss: 0.5635 - accuracy: 0.8184 - val_loss: 0.5224 - val_accuracy: 0.8362\n",
      "Epoch 250/310\n",
      "191/191 [==============================] - 0s 2ms/step - loss: 0.5754 - accuracy: 0.8082 - val_loss: 0.5449 - val_accuracy: 0.8404\n",
      "Epoch 251/310\n",
      "191/191 [==============================] - 0s 2ms/step - loss: 0.5998 - accuracy: 0.8084 - val_loss: 0.5232 - val_accuracy: 0.8331\n",
      "Epoch 252/310\n",
      "191/191 [==============================] - 0s 2ms/step - loss: 0.5965 - accuracy: 0.8053 - val_loss: 0.5146 - val_accuracy: 0.8393\n",
      "Epoch 253/310\n",
      "191/191 [==============================] - 0s 2ms/step - loss: 0.5840 - accuracy: 0.8164 - val_loss: 0.5252 - val_accuracy: 0.8282\n",
      "Epoch 254/310\n",
      "191/191 [==============================] - 0s 2ms/step - loss: 0.6093 - accuracy: 0.8049 - val_loss: 0.5481 - val_accuracy: 0.8247\n",
      "Epoch 255/310\n",
      "191/191 [==============================] - 0s 2ms/step - loss: 0.5854 - accuracy: 0.8059 - val_loss: 0.5212 - val_accuracy: 0.8343\n",
      "Epoch 256/310\n",
      "191/191 [==============================] - 0s 2ms/step - loss: 0.5915 - accuracy: 0.8067 - val_loss: 0.5302 - val_accuracy: 0.8289\n",
      "Epoch 257/310\n",
      "191/191 [==============================] - 0s 2ms/step - loss: 0.6175 - accuracy: 0.8025 - val_loss: 0.5439 - val_accuracy: 0.8259\n",
      "Epoch 258/310\n",
      "191/191 [==============================] - 0s 2ms/step - loss: 0.5960 - accuracy: 0.8053 - val_loss: 0.5214 - val_accuracy: 0.8366\n",
      "Epoch 259/310\n",
      "191/191 [==============================] - 0s 2ms/step - loss: 0.5915 - accuracy: 0.8084 - val_loss: 0.5210 - val_accuracy: 0.8343\n",
      "Epoch 260/310\n",
      "191/191 [==============================] - 0s 2ms/step - loss: 0.6074 - accuracy: 0.8007 - val_loss: 0.5119 - val_accuracy: 0.8400\n",
      "Epoch 261/310\n",
      "191/191 [==============================] - 0s 2ms/step - loss: 0.5787 - accuracy: 0.8108 - val_loss: 0.5129 - val_accuracy: 0.8362\n",
      "Epoch 262/310\n",
      "191/191 [==============================] - 0s 2ms/step - loss: 0.5838 - accuracy: 0.8128 - val_loss: 0.5254 - val_accuracy: 0.8343\n",
      "Epoch 263/310\n",
      "191/191 [==============================] - 0s 2ms/step - loss: 0.5616 - accuracy: 0.8238 - val_loss: 0.5368 - val_accuracy: 0.8301\n",
      "Epoch 264/310\n",
      "191/191 [==============================] - 0s 2ms/step - loss: 0.6032 - accuracy: 0.8099 - val_loss: 0.5061 - val_accuracy: 0.8354\n",
      "Epoch 265/310\n",
      "191/191 [==============================] - 0s 2ms/step - loss: 0.5917 - accuracy: 0.8079 - val_loss: 0.5182 - val_accuracy: 0.8351\n",
      "Epoch 266/310\n",
      "191/191 [==============================] - 0s 2ms/step - loss: 0.5699 - accuracy: 0.8157 - val_loss: 0.5197 - val_accuracy: 0.8373\n",
      "Epoch 267/310\n",
      "191/191 [==============================] - 0s 2ms/step - loss: 0.5518 - accuracy: 0.8171 - val_loss: 0.5361 - val_accuracy: 0.8309\n",
      "Epoch 268/310\n",
      "191/191 [==============================] - 0s 2ms/step - loss: 0.6126 - accuracy: 0.8040 - val_loss: 0.5065 - val_accuracy: 0.8408\n",
      "Epoch 269/310\n",
      "191/191 [==============================] - 0s 2ms/step - loss: 0.5652 - accuracy: 0.8256 - val_loss: 0.5266 - val_accuracy: 0.8343\n",
      "Epoch 270/310\n",
      "191/191 [==============================] - 0s 2ms/step - loss: 0.5940 - accuracy: 0.8151 - val_loss: 0.5260 - val_accuracy: 0.8331\n",
      "Epoch 271/310\n",
      "191/191 [==============================] - 0s 2ms/step - loss: 0.5844 - accuracy: 0.8144 - val_loss: 0.5189 - val_accuracy: 0.8408\n",
      "Epoch 272/310\n",
      "191/191 [==============================] - 0s 2ms/step - loss: 0.5848 - accuracy: 0.8092 - val_loss: 0.5288 - val_accuracy: 0.8389\n",
      "Epoch 273/310\n",
      "191/191 [==============================] - 0s 2ms/step - loss: 0.5915 - accuracy: 0.8126 - val_loss: 0.5247 - val_accuracy: 0.8362\n",
      "Epoch 274/310\n",
      "191/191 [==============================] - 0s 2ms/step - loss: 0.5773 - accuracy: 0.8100 - val_loss: 0.5272 - val_accuracy: 0.8316\n",
      "Epoch 275/310\n",
      "191/191 [==============================] - 0s 2ms/step - loss: 0.6189 - accuracy: 0.8059 - val_loss: 0.5209 - val_accuracy: 0.8354\n",
      "Epoch 276/310\n",
      "191/191 [==============================] - 0s 2ms/step - loss: 0.5888 - accuracy: 0.8053 - val_loss: 0.5167 - val_accuracy: 0.8347\n",
      "Epoch 277/310\n",
      "191/191 [==============================] - 0s 2ms/step - loss: 0.5762 - accuracy: 0.8167 - val_loss: 0.5161 - val_accuracy: 0.8404\n",
      "Epoch 278/310\n",
      "191/191 [==============================] - 0s 2ms/step - loss: 0.6049 - accuracy: 0.8069 - val_loss: 0.5245 - val_accuracy: 0.8362\n",
      "Epoch 279/310\n",
      "191/191 [==============================] - 0s 2ms/step - loss: 0.5878 - accuracy: 0.8113 - val_loss: 0.5412 - val_accuracy: 0.8309\n",
      "Epoch 280/310\n",
      "191/191 [==============================] - 0s 2ms/step - loss: 0.5947 - accuracy: 0.8097 - val_loss: 0.5153 - val_accuracy: 0.8370\n",
      "Epoch 281/310\n",
      "191/191 [==============================] - 0s 2ms/step - loss: 0.5889 - accuracy: 0.8136 - val_loss: 0.5101 - val_accuracy: 0.8404\n",
      "Epoch 282/310\n",
      "191/191 [==============================] - 0s 2ms/step - loss: 0.5763 - accuracy: 0.8053 - val_loss: 0.5202 - val_accuracy: 0.8312\n",
      "Epoch 283/310\n",
      "191/191 [==============================] - 0s 2ms/step - loss: 0.6205 - accuracy: 0.7995 - val_loss: 0.5186 - val_accuracy: 0.8396\n",
      "Epoch 284/310\n",
      "191/191 [==============================] - 0s 2ms/step - loss: 0.6005 - accuracy: 0.8020 - val_loss: 0.5133 - val_accuracy: 0.8423\n",
      "Epoch 285/310\n",
      "191/191 [==============================] - 0s 2ms/step - loss: 0.6057 - accuracy: 0.8002 - val_loss: 0.5251 - val_accuracy: 0.8396\n",
      "Epoch 286/310\n",
      "191/191 [==============================] - 0s 2ms/step - loss: 0.5932 - accuracy: 0.8105 - val_loss: 0.5173 - val_accuracy: 0.8366\n",
      "Epoch 287/310\n",
      "191/191 [==============================] - 0s 2ms/step - loss: 0.5816 - accuracy: 0.8107 - val_loss: 0.5014 - val_accuracy: 0.8412\n",
      "Epoch 288/310\n",
      "191/191 [==============================] - 0s 2ms/step - loss: 0.5954 - accuracy: 0.8103 - val_loss: 0.5297 - val_accuracy: 0.8343\n",
      "Epoch 289/310\n",
      "191/191 [==============================] - 0s 2ms/step - loss: 0.5956 - accuracy: 0.8072 - val_loss: 0.5253 - val_accuracy: 0.8354\n",
      "Epoch 290/310\n",
      "191/191 [==============================] - 0s 2ms/step - loss: 0.5761 - accuracy: 0.8125 - val_loss: 0.5071 - val_accuracy: 0.8404\n",
      "Epoch 291/310\n",
      "191/191 [==============================] - 0s 2ms/step - loss: 0.5953 - accuracy: 0.8064 - val_loss: 0.5275 - val_accuracy: 0.8358\n",
      "Epoch 292/310\n",
      "191/191 [==============================] - 0s 2ms/step - loss: 0.5834 - accuracy: 0.8112 - val_loss: 0.5281 - val_accuracy: 0.8385\n",
      "Epoch 293/310\n",
      "191/191 [==============================] - 0s 2ms/step - loss: 0.5903 - accuracy: 0.8059 - val_loss: 0.5468 - val_accuracy: 0.8251\n",
      "Epoch 294/310\n",
      "191/191 [==============================] - 0s 2ms/step - loss: 0.5766 - accuracy: 0.8121 - val_loss: 0.5123 - val_accuracy: 0.8484\n",
      "Epoch 295/310\n",
      "191/191 [==============================] - 0s 2ms/step - loss: 0.5866 - accuracy: 0.8108 - val_loss: 0.5027 - val_accuracy: 0.8400\n",
      "Epoch 296/310\n",
      "191/191 [==============================] - 0s 2ms/step - loss: 0.5921 - accuracy: 0.8077 - val_loss: 0.5197 - val_accuracy: 0.8461\n",
      "Epoch 297/310\n",
      "191/191 [==============================] - 0s 2ms/step - loss: 0.5911 - accuracy: 0.8138 - val_loss: 0.5394 - val_accuracy: 0.8305\n",
      "Epoch 298/310\n",
      "191/191 [==============================] - 0s 2ms/step - loss: 0.5885 - accuracy: 0.8069 - val_loss: 0.5338 - val_accuracy: 0.8251\n",
      "Epoch 299/310\n",
      "191/191 [==============================] - 0s 2ms/step - loss: 0.5998 - accuracy: 0.8056 - val_loss: 0.5342 - val_accuracy: 0.8351\n",
      "Epoch 300/310\n",
      "191/191 [==============================] - 0s 2ms/step - loss: 0.6118 - accuracy: 0.8046 - val_loss: 0.5196 - val_accuracy: 0.8412\n",
      "Epoch 301/310\n",
      "191/191 [==============================] - 0s 2ms/step - loss: 0.5741 - accuracy: 0.8112 - val_loss: 0.5116 - val_accuracy: 0.8450\n",
      "Epoch 302/310\n",
      "191/191 [==============================] - 0s 2ms/step - loss: 0.5793 - accuracy: 0.8121 - val_loss: 0.5275 - val_accuracy: 0.8377\n",
      "Epoch 303/310\n",
      "191/191 [==============================] - 0s 2ms/step - loss: 0.6216 - accuracy: 0.8031 - val_loss: 0.5273 - val_accuracy: 0.8320\n",
      "Epoch 304/310\n",
      "191/191 [==============================] - 0s 2ms/step - loss: 0.5845 - accuracy: 0.8038 - val_loss: 0.5308 - val_accuracy: 0.8362\n",
      "Epoch 305/310\n",
      "191/191 [==============================] - 0s 2ms/step - loss: 0.5674 - accuracy: 0.8233 - val_loss: 0.5423 - val_accuracy: 0.8335\n",
      "Epoch 306/310\n",
      "191/191 [==============================] - 0s 2ms/step - loss: 0.5774 - accuracy: 0.8164 - val_loss: 0.5320 - val_accuracy: 0.8351\n",
      "Epoch 307/310\n",
      "191/191 [==============================] - 0s 2ms/step - loss: 0.6262 - accuracy: 0.7977 - val_loss: 0.5304 - val_accuracy: 0.8381\n",
      "Epoch 308/310\n",
      "191/191 [==============================] - 0s 2ms/step - loss: 0.6100 - accuracy: 0.8051 - val_loss: 0.5206 - val_accuracy: 0.8389\n",
      "Epoch 309/310\n",
      "191/191 [==============================] - 0s 2ms/step - loss: 0.5904 - accuracy: 0.8085 - val_loss: 0.5200 - val_accuracy: 0.8328\n",
      "Epoch 310/310\n",
      "191/191 [==============================] - 0s 2ms/step - loss: 0.5706 - accuracy: 0.8149 - val_loss: 0.5261 - val_accuracy: 0.8393\n"
     ]
    }
   ],
   "source": [
    "epochs_sayisi = 310   #Epoch sayısı\n",
    "yigin_sayisi = 32     #yığın sayısı\n",
    "\n",
    "history = cnn_model.fit(X_train,y_train,batch_size=yigin_sayisi,epochs=epochs_sayisi,validation_data=(X_test,y_test),verbose=1)\n"
   ]
  },
  {
   "cell_type": "markdown",
   "id": "19d7e614",
   "metadata": {},
   "source": [
    "## Accuracy(Doğruluk) Değerinin Grafiği"
   ]
  },
  {
   "cell_type": "code",
   "execution_count": 70,
   "id": "52aabd35",
   "metadata": {},
   "outputs": [
    {
     "data": {
      "text/plain": [
       "<function matplotlib.pyplot.show(close=None, block=None)>"
      ]
     },
     "execution_count": 70,
     "metadata": {},
     "output_type": "execute_result"
    },
    {
     "data": {
      "image/png": "[encoded data removed]",
      "text/plain": [
       "<Figure size 640x480 with 1 Axes>"
      ]
     },
     "metadata": {},
     "output_type": "display_data"
    }
   ],
   "source": [
    "plt.plot(history.history[\"accuracy\"])\n",
    "plt.title(\"model accuracy\")\n",
    "plt.ylabel(\"accuracy\")\n",
    "plt.xlabel(\"epoch\")\n",
    "plt.legend([\"train\"], loc=\"upper left\")\n",
    "plt.show"
   ]
  },
  {
   "cell_type": "markdown",
   "id": "f2f359ed",
   "metadata": {},
   "source": [
    "### Loss(Kayıp) Değerinin Grafiği"
   ]
  },
  {
   "cell_type": "code",
   "execution_count": 72,
   "id": "db4e180f",
   "metadata": {},
   "outputs": [
    {
     "data": {
      "text/plain": [
       "<function matplotlib.pyplot.show(close=None, block=None)>"
      ]
     },
     "execution_count": 72,
     "metadata": {},
     "output_type": "execute_result"
    },
    {
     "data": {
      "image/png": "[encoded data removed]",
      "text/plain": [
       "<Figure size 640x480 with 1 Axes>"
      ]
     },
     "metadata": {},
     "output_type": "display_data"
    }
   ],
   "source": [
    "plt.plot(history.history[\"loss\"])\n",
    "plt.title(\"model loss\")\n",
    "plt.ylabel(\"loss\")\n",
    "plt.xlabel(\"epoch\")\n",
    "plt.legend([\"train\"], loc=\"upper left\")\n",
    "plt.show"
   ]
  },
  {
   "cell_type": "markdown",
   "id": "4fc7975b",
   "metadata": {},
   "source": [
    "### Yüzde Doğruluk Değerinin Sorgusu"
   ]
  },
  {
   "cell_type": "code",
   "execution_count": 73,
   "id": "45672a85",
   "metadata": {},
   "outputs": [
    {
     "name": "stdout",
     "output_type": "stream",
     "text": [
      "0.8392516374588013\n"
     ]
    }
   ],
   "source": [
    "dogruluk_degeri = cnn_model.evaluate(X_test,y_test,verbose=0)\n",
    "#Verimliliği yazdırdık modelimiz %84 verimle çalışıyor.Değerler ile oynayarak daha iyi sonuçlar bulabiliriz\n",
    "print(dogruluk_degeri[1])"
   ]
  },
  {
   "cell_type": "markdown",
   "id": "a05b525f",
   "metadata": {},
   "source": [
    "## Artık Farklı Verilerle Modeli Test Edebiliriz"
   ]
  },
  {
   "cell_type": "code",
   "execution_count": 74,
   "id": "b6939467",
   "metadata": {},
   "outputs": [],
   "source": [
    "#UrbanSound8K içerisinden herhangi bir ses dosyasını librosa ile içeri aktaralım\n",
    "test_dosya = \"38236-3-2-2.wav\"\n",
    "ses_sinyal , ses_oran = lb.load(test_dosya,res_type=\"kaiser_fast\")\n",
    "mfcc_islemi = lb.feature.mfcc(y=ses_sinyal,sr=ses_oran,n_mfcc=42)\n",
    "mfcc_olcek = np.mean(mfcc_islemi.T,axis=0)\n",
    "#Buradaki işlemler yukarıdaki librosa ile yaptığımız MFCC işlemleri ile aynıdır"
   ]
  },
  {
   "cell_type": "code",
   "execution_count": 75,
   "id": "758843c1",
   "metadata": {},
   "outputs": [
    {
     "name": "stdout",
     "output_type": "stream",
     "text": [
      "[-5.2573273e+02  8.5783485e+01 -5.7746100e-01 -2.2641846e+01\n",
      " -2.6458672e+01 -1.1179856e+01 -1.6260969e+01 -6.0961499e+00\n",
      " -1.4525273e+01 -1.3000365e+01 -9.6196852e+00 -5.9997029e+00\n",
      " -3.4947946e+00  1.8680022e+00 -2.6686811e+00  2.8264639e+00\n",
      "  3.0015950e+00  4.7593713e+00 -3.4436661e-01 -1.3878559e+00\n",
      " -7.9882705e-01  8.3521634e-01  4.7232240e-01  7.5178522e-01\n",
      "  2.8322675e+00  1.6039457e+00 -1.6205764e+00  1.3539650e+00\n",
      "  1.1525562e+00  1.4093673e+00  2.3169208e+00  3.6881480e+00\n",
      "  3.1805613e+00  1.0368627e+00 -1.0569396e+00 -4.0278229e-01\n",
      " -7.3493177e-01 -7.5945067e-01 -7.0470113e-01 -2.2253833e+00\n",
      " -1.5836024e+00 -4.2672360e-01]\n"
     ]
    }
   ],
   "source": [
    "print(mfcc_olcek)"
   ]
  },
  {
   "cell_type": "code",
   "execution_count": 76,
   "id": "4a0181ba",
   "metadata": {},
   "outputs": [],
   "source": [
    "#MFCC ölçeğini reshape yapıyoruz\n",
    "mfcc_olcek = mfcc_olcek.reshape(1,-1)\n",
    "#aslında işlem olarak satırı sütün sütunu satır yapma gibi düşünebiliriz"
   ]
  },
  {
   "cell_type": "code",
   "execution_count": 77,
   "id": "5d78629c",
   "metadata": {},
   "outputs": [
    {
     "data": {
      "text/plain": [
       "(1, 42)"
      ]
     },
     "execution_count": 77,
     "metadata": {},
     "output_type": "execute_result"
    }
   ],
   "source": [
    "mfcc_olcek.shape     #Reshape yaptıktan sonra satır ve sutunlarına bakıyoruz"
   ]
  },
  {
   "cell_type": "code",
   "execution_count": 78,
   "id": "275aba85",
   "metadata": {},
   "outputs": [
    {
     "name": "stdout",
     "output_type": "stream",
     "text": [
      "[[-5.2573273e+02  8.5783485e+01 -5.7746100e-01 -2.2641846e+01\n",
      "  -2.6458672e+01 -1.1179856e+01 -1.6260969e+01 -6.0961499e+00\n",
      "  -1.4525273e+01 -1.3000365e+01 -9.6196852e+00 -5.9997029e+00\n",
      "  -3.4947946e+00  1.8680022e+00 -2.6686811e+00  2.8264639e+00\n",
      "   3.0015950e+00  4.7593713e+00 -3.4436661e-01 -1.3878559e+00\n",
      "  -7.9882705e-01  8.3521634e-01  4.7232240e-01  7.5178522e-01\n",
      "   2.8322675e+00  1.6039457e+00 -1.6205764e+00  1.3539650e+00\n",
      "   1.1525562e+00  1.4093673e+00  2.3169208e+00  3.6881480e+00\n",
      "   3.1805613e+00  1.0368627e+00 -1.0569396e+00 -4.0278229e-01\n",
      "  -7.3493177e-01 -7.5945067e-01 -7.0470113e-01 -2.2253833e+00\n",
      "  -1.5836024e+00 -4.2672360e-01]]\n"
     ]
    }
   ],
   "source": [
    "print(mfcc_olcek)"
   ]
  },
  {
   "cell_type": "code",
   "execution_count": 79,
   "id": "e76986dd",
   "metadata": {},
   "outputs": [
    {
     "name": "stdout",
     "output_type": "stream",
     "text": [
      "(1, 42)\n"
     ]
    }
   ],
   "source": [
    "print(mfcc_olcek.shape)"
   ]
  },
  {
   "cell_type": "code",
   "execution_count": 80,
   "id": "e490bae1",
   "metadata": {},
   "outputs": [
    {
     "name": "stdout",
     "output_type": "stream",
     "text": [
      "1/1 [==============================] - 0s 59ms/step\n"
     ]
    }
   ],
   "source": [
    "sonuc_dizi = cnn_model.predict(mfcc_olcek)    #cnn modelimize haber veriyoruz test ediyor"
   ]
  },
  {
   "cell_type": "code",
   "execution_count": 81,
   "id": "3f4c0f8b",
   "metadata": {},
   "outputs": [
    {
     "data": {
      "text/plain": [
       "array([[2.8462278e-36, 1.1535031e-22, 8.1436684e-22, 1.0000000e+00,\n",
       "        1.3602435e-21, 3.5884201e-26, 2.1865049e-12, 0.0000000e+00,\n",
       "        2.7851916e-19, 1.2844072e-23]], dtype=float32)"
      ]
     },
     "execution_count": 81,
     "metadata": {},
     "output_type": "execute_result"
    }
   ],
   "source": [
    "sonuc_dizi         "
   ]
  },
  {
   "cell_type": "code",
   "execution_count": 82,
   "id": "9acd7c8a",
   "metadata": {},
   "outputs": [
    {
     "name": "stdout",
     "output_type": "stream",
     "text": [
      "dog_bark\n"
     ]
    }
   ],
   "source": [
    "sonuc_siniflari = [\"air_conditioner\",\"car_horn\",\"children_playing\",\"dog_bark\",\"drilling\", \"engine_idling\", \"gun_shot\", \"jackhammer\", \"siren\", \"street_music\"]\n",
    "\n",
    "sonuc = np.argmax(sonuc_dizi[0])\n",
    "print(sonuc_siniflari[sonuc])"
   ]
  },
  {
   "cell_type": "markdown",
   "id": "b6c0ea93",
   "metadata": {},
   "source": [
    "## Opsiyonel Bölüm"
   ]
  },
  {
   "cell_type": "markdown",
   "id": "194383d6",
   "metadata": {},
   "source": [
    "### Burada doğru dizini yazarak klasördeki bütün resim(spectrogram) dosyalarını grayscale olarak içeriye aktarır"
   ]
  },
  {
   "cell_type": "code",
   "execution_count": 83,
   "id": "6e128f81",
   "metadata": {},
   "outputs": [],
   "source": [
    "air_conditioner = 'İşlem yapılacak klasör dizini'\n",
    "Files0 = os.listdir(air_conditioner)\n",
    "for File in Files0:\n",
    "    imgPath = os.path.join(air_conditioner,File)\n",
    "    print(imgPath)\n",
    "    image = cv.imread(imgPath,image = cv.imread(imgPath,cv.IMREAD_GRAYSCALE))\n",
    "    cv.imwrite(f'..kaydedilecek klasör dizini/gray_{File}',image)   #f li yapı kullanıp yaparak her resmin ayrı adının olmasını sağladık\n",
    "#    cv.waitKey(0)\n",
    "#cv.destroyAllWindows()"
   ]
  },
  {
   "cell_type": "markdown",
   "id": "76e07dd5",
   "metadata": {},
   "source": [
    "### Burada doğru dizinleri yazarsak spektrogramların gri halini imshow olarak bize aktarır."
   ]
  },
  {
   "cell_type": "code",
   "execution_count": null,
   "id": "0777b01e",
   "metadata": {},
   "outputs": [],
   "source": [
    "air_conditioner = 'İşlem yapılacak klasör dizini'\n",
    "Files0 = os.listdir(air_conditioner)\n",
    "for File in Files0:\n",
    "    imgPath = os.path.join(air_conditioner,File)\n",
    "    print(imgPath)\n",
    "    image = cv.imread(imgPath,image = cv.imread(imgPath,cv.IMREAD_GRAYSCALE))\n",
    "    cv.imshow(\"image\",image)\n",
    "    cv.waitKey(0)\n",
    "cv.destroyAllWindows"
   ]
  }
 ],
 "metadata": {
  "kernelspec": {
   "display_name": "Python 3 (ipykernel)",
   "language": "python",
   "name": "python3"
  },
  "language_info": {
   "codemirror_mode": {
    "name": "ipython",
    "version": 3
   },
   "file_extension": ".py",
   "mimetype": "text/x-python",
   "name": "python",
   "nbconvert_exporter": "python",
   "pygments_lexer": "ipython3",
   "version": "3.9.12"
  }
 },
 "nbformat": 4,
 "nbformat_minor": 5
}
